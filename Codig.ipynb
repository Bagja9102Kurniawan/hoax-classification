{
  "nbformat": 4,
  "nbformat_minor": 0,
  "metadata": {
    "colab": {
      "name": "Codig.ipynb",
      "provenance": [],
      "collapsed_sections": []
    },
    "kernelspec": {
      "name": "python3",
      "display_name": "Python 3"
    },
    "accelerator": "GPU",
    "widgets": {
      "application/vnd.jupyter.widget-state+json": {
        "3e4508ca86b04b88a4d58a6d15ba3ded": {
          "model_module": "@jupyter-widgets/controls",
          "model_name": "HBoxModel",
          "state": {
            "_view_name": "HBoxView",
            "_dom_classes": [],
            "_model_name": "HBoxModel",
            "_view_module": "@jupyter-widgets/controls",
            "_model_module_version": "1.5.0",
            "_view_count": null,
            "_view_module_version": "1.5.0",
            "box_style": "",
            "layout": "IPY_MODEL_3b4165910c704f21b744c58c8871eb9a",
            "_model_module": "@jupyter-widgets/controls",
            "children": [
              "IPY_MODEL_e4f81dca5a06403db1ca306ea79db5d2",
              "IPY_MODEL_458341848df54824b9e97a7fdc2d9a71"
            ]
          }
        },
        "3b4165910c704f21b744c58c8871eb9a": {
          "model_module": "@jupyter-widgets/base",
          "model_name": "LayoutModel",
          "state": {
            "_view_name": "LayoutView",
            "grid_template_rows": null,
            "right": null,
            "justify_content": null,
            "_view_module": "@jupyter-widgets/base",
            "overflow": null,
            "_model_module_version": "1.2.0",
            "_view_count": null,
            "flex_flow": null,
            "width": null,
            "min_width": null,
            "border": null,
            "align_items": null,
            "bottom": null,
            "_model_module": "@jupyter-widgets/base",
            "top": null,
            "grid_column": null,
            "overflow_y": null,
            "overflow_x": null,
            "grid_auto_flow": null,
            "grid_area": null,
            "grid_template_columns": null,
            "flex": null,
            "_model_name": "LayoutModel",
            "justify_items": null,
            "grid_row": null,
            "max_height": null,
            "align_content": null,
            "visibility": null,
            "align_self": null,
            "height": null,
            "min_height": null,
            "padding": null,
            "grid_auto_rows": null,
            "grid_gap": null,
            "max_width": null,
            "order": null,
            "_view_module_version": "1.2.0",
            "grid_template_areas": null,
            "object_position": null,
            "object_fit": null,
            "grid_auto_columns": null,
            "margin": null,
            "display": null,
            "left": null
          }
        },
        "e4f81dca5a06403db1ca306ea79db5d2": {
          "model_module": "@jupyter-widgets/controls",
          "model_name": "FloatProgressModel",
          "state": {
            "_view_name": "ProgressView",
            "style": "IPY_MODEL_530a8907d46b47a68b9cd0d88e90fc86",
            "_dom_classes": [],
            "description": "Downloading: 100%",
            "_model_name": "FloatProgressModel",
            "bar_style": "success",
            "max": 1534,
            "_view_module": "@jupyter-widgets/controls",
            "_model_module_version": "1.5.0",
            "value": 1534,
            "_view_count": null,
            "_view_module_version": "1.5.0",
            "orientation": "horizontal",
            "min": 0,
            "description_tooltip": null,
            "_model_module": "@jupyter-widgets/controls",
            "layout": "IPY_MODEL_ccadc1a10e68457faf0352316c94f47a"
          }
        },
        "458341848df54824b9e97a7fdc2d9a71": {
          "model_module": "@jupyter-widgets/controls",
          "model_name": "HTMLModel",
          "state": {
            "_view_name": "HTMLView",
            "style": "IPY_MODEL_e6378eefca04497bb0780fcb6c10414f",
            "_dom_classes": [],
            "description": "",
            "_model_name": "HTMLModel",
            "placeholder": "​",
            "_view_module": "@jupyter-widgets/controls",
            "_model_module_version": "1.5.0",
            "value": " 1.53k/1.53k [00:00&lt;00:00, 2.42kB/s]",
            "_view_count": null,
            "_view_module_version": "1.5.0",
            "description_tooltip": null,
            "_model_module": "@jupyter-widgets/controls",
            "layout": "IPY_MODEL_fa3058a7cc8140e387ce6a7cc7295a27"
          }
        },
        "530a8907d46b47a68b9cd0d88e90fc86": {
          "model_module": "@jupyter-widgets/controls",
          "model_name": "ProgressStyleModel",
          "state": {
            "_view_name": "StyleView",
            "_model_name": "ProgressStyleModel",
            "description_width": "initial",
            "_view_module": "@jupyter-widgets/base",
            "_model_module_version": "1.5.0",
            "_view_count": null,
            "_view_module_version": "1.2.0",
            "bar_color": null,
            "_model_module": "@jupyter-widgets/controls"
          }
        },
        "ccadc1a10e68457faf0352316c94f47a": {
          "model_module": "@jupyter-widgets/base",
          "model_name": "LayoutModel",
          "state": {
            "_view_name": "LayoutView",
            "grid_template_rows": null,
            "right": null,
            "justify_content": null,
            "_view_module": "@jupyter-widgets/base",
            "overflow": null,
            "_model_module_version": "1.2.0",
            "_view_count": null,
            "flex_flow": null,
            "width": null,
            "min_width": null,
            "border": null,
            "align_items": null,
            "bottom": null,
            "_model_module": "@jupyter-widgets/base",
            "top": null,
            "grid_column": null,
            "overflow_y": null,
            "overflow_x": null,
            "grid_auto_flow": null,
            "grid_area": null,
            "grid_template_columns": null,
            "flex": null,
            "_model_name": "LayoutModel",
            "justify_items": null,
            "grid_row": null,
            "max_height": null,
            "align_content": null,
            "visibility": null,
            "align_self": null,
            "height": null,
            "min_height": null,
            "padding": null,
            "grid_auto_rows": null,
            "grid_gap": null,
            "max_width": null,
            "order": null,
            "_view_module_version": "1.2.0",
            "grid_template_areas": null,
            "object_position": null,
            "object_fit": null,
            "grid_auto_columns": null,
            "margin": null,
            "display": null,
            "left": null
          }
        },
        "e6378eefca04497bb0780fcb6c10414f": {
          "model_module": "@jupyter-widgets/controls",
          "model_name": "DescriptionStyleModel",
          "state": {
            "_view_name": "StyleView",
            "_model_name": "DescriptionStyleModel",
            "description_width": "",
            "_view_module": "@jupyter-widgets/base",
            "_model_module_version": "1.5.0",
            "_view_count": null,
            "_view_module_version": "1.2.0",
            "_model_module": "@jupyter-widgets/controls"
          }
        },
        "fa3058a7cc8140e387ce6a7cc7295a27": {
          "model_module": "@jupyter-widgets/base",
          "model_name": "LayoutModel",
          "state": {
            "_view_name": "LayoutView",
            "grid_template_rows": null,
            "right": null,
            "justify_content": null,
            "_view_module": "@jupyter-widgets/base",
            "overflow": null,
            "_model_module_version": "1.2.0",
            "_view_count": null,
            "flex_flow": null,
            "width": null,
            "min_width": null,
            "border": null,
            "align_items": null,
            "bottom": null,
            "_model_module": "@jupyter-widgets/base",
            "top": null,
            "grid_column": null,
            "overflow_y": null,
            "overflow_x": null,
            "grid_auto_flow": null,
            "grid_area": null,
            "grid_template_columns": null,
            "flex": null,
            "_model_name": "LayoutModel",
            "justify_items": null,
            "grid_row": null,
            "max_height": null,
            "align_content": null,
            "visibility": null,
            "align_self": null,
            "height": null,
            "min_height": null,
            "padding": null,
            "grid_auto_rows": null,
            "grid_gap": null,
            "max_width": null,
            "order": null,
            "_view_module_version": "1.2.0",
            "grid_template_areas": null,
            "object_position": null,
            "object_fit": null,
            "grid_auto_columns": null,
            "margin": null,
            "display": null,
            "left": null
          }
        },
        "be6757071b1c46a0a0654d14def1ee92": {
          "model_module": "@jupyter-widgets/controls",
          "model_name": "HBoxModel",
          "state": {
            "_view_name": "HBoxView",
            "_dom_classes": [],
            "_model_name": "HBoxModel",
            "_view_module": "@jupyter-widgets/controls",
            "_model_module_version": "1.5.0",
            "_view_count": null,
            "_view_module_version": "1.5.0",
            "box_style": "",
            "layout": "IPY_MODEL_7cd1ab4a3222489eb5867129e8ad3082",
            "_model_module": "@jupyter-widgets/controls",
            "children": [
              "IPY_MODEL_46873750c49d49a0a16267560ec874a0",
              "IPY_MODEL_e08f2254bf0041198c0eb8f8d14e3bd9"
            ]
          }
        },
        "7cd1ab4a3222489eb5867129e8ad3082": {
          "model_module": "@jupyter-widgets/base",
          "model_name": "LayoutModel",
          "state": {
            "_view_name": "LayoutView",
            "grid_template_rows": null,
            "right": null,
            "justify_content": null,
            "_view_module": "@jupyter-widgets/base",
            "overflow": null,
            "_model_module_version": "1.2.0",
            "_view_count": null,
            "flex_flow": null,
            "width": null,
            "min_width": null,
            "border": null,
            "align_items": null,
            "bottom": null,
            "_model_module": "@jupyter-widgets/base",
            "top": null,
            "grid_column": null,
            "overflow_y": null,
            "overflow_x": null,
            "grid_auto_flow": null,
            "grid_area": null,
            "grid_template_columns": null,
            "flex": null,
            "_model_name": "LayoutModel",
            "justify_items": null,
            "grid_row": null,
            "max_height": null,
            "align_content": null,
            "visibility": null,
            "align_self": null,
            "height": null,
            "min_height": null,
            "padding": null,
            "grid_auto_rows": null,
            "grid_gap": null,
            "max_width": null,
            "order": null,
            "_view_module_version": "1.2.0",
            "grid_template_areas": null,
            "object_position": null,
            "object_fit": null,
            "grid_auto_columns": null,
            "margin": null,
            "display": null,
            "left": null
          }
        },
        "46873750c49d49a0a16267560ec874a0": {
          "model_module": "@jupyter-widgets/controls",
          "model_name": "FloatProgressModel",
          "state": {
            "_view_name": "ProgressView",
            "style": "IPY_MODEL_1a858dd75c1c4390bb396fd637d2f8b0",
            "_dom_classes": [],
            "description": "Downloading: 100%",
            "_model_name": "FloatProgressModel",
            "bar_style": "success",
            "max": 229167,
            "_view_module": "@jupyter-widgets/controls",
            "_model_module_version": "1.5.0",
            "value": 229167,
            "_view_count": null,
            "_view_module_version": "1.5.0",
            "orientation": "horizontal",
            "min": 0,
            "description_tooltip": null,
            "_model_module": "@jupyter-widgets/controls",
            "layout": "IPY_MODEL_2c51966fbce7480aadc26df0ca455f2b"
          }
        },
        "e08f2254bf0041198c0eb8f8d14e3bd9": {
          "model_module": "@jupyter-widgets/controls",
          "model_name": "HTMLModel",
          "state": {
            "_view_name": "HTMLView",
            "style": "IPY_MODEL_047ccfb9559b4cb49f5f5e63d39eab04",
            "_dom_classes": [],
            "description": "",
            "_model_name": "HTMLModel",
            "placeholder": "​",
            "_view_module": "@jupyter-widgets/controls",
            "_model_module_version": "1.5.0",
            "value": " 229k/229k [00:00&lt;00:00, 514kB/s]",
            "_view_count": null,
            "_view_module_version": "1.5.0",
            "description_tooltip": null,
            "_model_module": "@jupyter-widgets/controls",
            "layout": "IPY_MODEL_65ce310ff6534e41a48c94f014b55fa9"
          }
        },
        "1a858dd75c1c4390bb396fd637d2f8b0": {
          "model_module": "@jupyter-widgets/controls",
          "model_name": "ProgressStyleModel",
          "state": {
            "_view_name": "StyleView",
            "_model_name": "ProgressStyleModel",
            "description_width": "initial",
            "_view_module": "@jupyter-widgets/base",
            "_model_module_version": "1.5.0",
            "_view_count": null,
            "_view_module_version": "1.2.0",
            "bar_color": null,
            "_model_module": "@jupyter-widgets/controls"
          }
        },
        "2c51966fbce7480aadc26df0ca455f2b": {
          "model_module": "@jupyter-widgets/base",
          "model_name": "LayoutModel",
          "state": {
            "_view_name": "LayoutView",
            "grid_template_rows": null,
            "right": null,
            "justify_content": null,
            "_view_module": "@jupyter-widgets/base",
            "overflow": null,
            "_model_module_version": "1.2.0",
            "_view_count": null,
            "flex_flow": null,
            "width": null,
            "min_width": null,
            "border": null,
            "align_items": null,
            "bottom": null,
            "_model_module": "@jupyter-widgets/base",
            "top": null,
            "grid_column": null,
            "overflow_y": null,
            "overflow_x": null,
            "grid_auto_flow": null,
            "grid_area": null,
            "grid_template_columns": null,
            "flex": null,
            "_model_name": "LayoutModel",
            "justify_items": null,
            "grid_row": null,
            "max_height": null,
            "align_content": null,
            "visibility": null,
            "align_self": null,
            "height": null,
            "min_height": null,
            "padding": null,
            "grid_auto_rows": null,
            "grid_gap": null,
            "max_width": null,
            "order": null,
            "_view_module_version": "1.2.0",
            "grid_template_areas": null,
            "object_position": null,
            "object_fit": null,
            "grid_auto_columns": null,
            "margin": null,
            "display": null,
            "left": null
          }
        },
        "047ccfb9559b4cb49f5f5e63d39eab04": {
          "model_module": "@jupyter-widgets/controls",
          "model_name": "DescriptionStyleModel",
          "state": {
            "_view_name": "StyleView",
            "_model_name": "DescriptionStyleModel",
            "description_width": "",
            "_view_module": "@jupyter-widgets/base",
            "_model_module_version": "1.5.0",
            "_view_count": null,
            "_view_module_version": "1.2.0",
            "_model_module": "@jupyter-widgets/controls"
          }
        },
        "65ce310ff6534e41a48c94f014b55fa9": {
          "model_module": "@jupyter-widgets/base",
          "model_name": "LayoutModel",
          "state": {
            "_view_name": "LayoutView",
            "grid_template_rows": null,
            "right": null,
            "justify_content": null,
            "_view_module": "@jupyter-widgets/base",
            "overflow": null,
            "_model_module_version": "1.2.0",
            "_view_count": null,
            "flex_flow": null,
            "width": null,
            "min_width": null,
            "border": null,
            "align_items": null,
            "bottom": null,
            "_model_module": "@jupyter-widgets/base",
            "top": null,
            "grid_column": null,
            "overflow_y": null,
            "overflow_x": null,
            "grid_auto_flow": null,
            "grid_area": null,
            "grid_template_columns": null,
            "flex": null,
            "_model_name": "LayoutModel",
            "justify_items": null,
            "grid_row": null,
            "max_height": null,
            "align_content": null,
            "visibility": null,
            "align_self": null,
            "height": null,
            "min_height": null,
            "padding": null,
            "grid_auto_rows": null,
            "grid_gap": null,
            "max_width": null,
            "order": null,
            "_view_module_version": "1.2.0",
            "grid_template_areas": null,
            "object_position": null,
            "object_fit": null,
            "grid_auto_columns": null,
            "margin": null,
            "display": null,
            "left": null
          }
        },
        "f3b6431a5eeb47fbbe4ee1e38e990a50": {
          "model_module": "@jupyter-widgets/controls",
          "model_name": "HBoxModel",
          "state": {
            "_view_name": "HBoxView",
            "_dom_classes": [],
            "_model_name": "HBoxModel",
            "_view_module": "@jupyter-widgets/controls",
            "_model_module_version": "1.5.0",
            "_view_count": null,
            "_view_module_version": "1.5.0",
            "box_style": "",
            "layout": "IPY_MODEL_60e662488da94c72b29e13f41a6801c6",
            "_model_module": "@jupyter-widgets/controls",
            "children": [
              "IPY_MODEL_a455b8c8cf724a8aa75f19ef29b36c33",
              "IPY_MODEL_532c8ac8b8b44b1b80cc8bad76ca6d75"
            ]
          }
        },
        "60e662488da94c72b29e13f41a6801c6": {
          "model_module": "@jupyter-widgets/base",
          "model_name": "LayoutModel",
          "state": {
            "_view_name": "LayoutView",
            "grid_template_rows": null,
            "right": null,
            "justify_content": null,
            "_view_module": "@jupyter-widgets/base",
            "overflow": null,
            "_model_module_version": "1.2.0",
            "_view_count": null,
            "flex_flow": null,
            "width": null,
            "min_width": null,
            "border": null,
            "align_items": null,
            "bottom": null,
            "_model_module": "@jupyter-widgets/base",
            "top": null,
            "grid_column": null,
            "overflow_y": null,
            "overflow_x": null,
            "grid_auto_flow": null,
            "grid_area": null,
            "grid_template_columns": null,
            "flex": null,
            "_model_name": "LayoutModel",
            "justify_items": null,
            "grid_row": null,
            "max_height": null,
            "align_content": null,
            "visibility": null,
            "align_self": null,
            "height": null,
            "min_height": null,
            "padding": null,
            "grid_auto_rows": null,
            "grid_gap": null,
            "max_width": null,
            "order": null,
            "_view_module_version": "1.2.0",
            "grid_template_areas": null,
            "object_position": null,
            "object_fit": null,
            "grid_auto_columns": null,
            "margin": null,
            "display": null,
            "left": null
          }
        },
        "a455b8c8cf724a8aa75f19ef29b36c33": {
          "model_module": "@jupyter-widgets/controls",
          "model_name": "FloatProgressModel",
          "state": {
            "_view_name": "ProgressView",
            "style": "IPY_MODEL_d97571faf0a7485a8a449a4f413502c3",
            "_dom_classes": [],
            "description": "Downloading: 100%",
            "_model_name": "FloatProgressModel",
            "bar_style": "success",
            "max": 112,
            "_view_module": "@jupyter-widgets/controls",
            "_model_module_version": "1.5.0",
            "value": 112,
            "_view_count": null,
            "_view_module_version": "1.5.0",
            "orientation": "horizontal",
            "min": 0,
            "description_tooltip": null,
            "_model_module": "@jupyter-widgets/controls",
            "layout": "IPY_MODEL_04747ddf5a9a4657a49deaf6b91cf44c"
          }
        },
        "532c8ac8b8b44b1b80cc8bad76ca6d75": {
          "model_module": "@jupyter-widgets/controls",
          "model_name": "HTMLModel",
          "state": {
            "_view_name": "HTMLView",
            "style": "IPY_MODEL_5f3e457152014cf0a39685d61747a26d",
            "_dom_classes": [],
            "description": "",
            "_model_name": "HTMLModel",
            "placeholder": "​",
            "_view_module": "@jupyter-widgets/controls",
            "_model_module_version": "1.5.0",
            "value": " 112/112 [00:00&lt;00:00, 549B/s]",
            "_view_count": null,
            "_view_module_version": "1.5.0",
            "description_tooltip": null,
            "_model_module": "@jupyter-widgets/controls",
            "layout": "IPY_MODEL_4fc0dbac6f65404cbc2dfedbc5ca737a"
          }
        },
        "d97571faf0a7485a8a449a4f413502c3": {
          "model_module": "@jupyter-widgets/controls",
          "model_name": "ProgressStyleModel",
          "state": {
            "_view_name": "StyleView",
            "_model_name": "ProgressStyleModel",
            "description_width": "initial",
            "_view_module": "@jupyter-widgets/base",
            "_model_module_version": "1.5.0",
            "_view_count": null,
            "_view_module_version": "1.2.0",
            "bar_color": null,
            "_model_module": "@jupyter-widgets/controls"
          }
        },
        "04747ddf5a9a4657a49deaf6b91cf44c": {
          "model_module": "@jupyter-widgets/base",
          "model_name": "LayoutModel",
          "state": {
            "_view_name": "LayoutView",
            "grid_template_rows": null,
            "right": null,
            "justify_content": null,
            "_view_module": "@jupyter-widgets/base",
            "overflow": null,
            "_model_module_version": "1.2.0",
            "_view_count": null,
            "flex_flow": null,
            "width": null,
            "min_width": null,
            "border": null,
            "align_items": null,
            "bottom": null,
            "_model_module": "@jupyter-widgets/base",
            "top": null,
            "grid_column": null,
            "overflow_y": null,
            "overflow_x": null,
            "grid_auto_flow": null,
            "grid_area": null,
            "grid_template_columns": null,
            "flex": null,
            "_model_name": "LayoutModel",
            "justify_items": null,
            "grid_row": null,
            "max_height": null,
            "align_content": null,
            "visibility": null,
            "align_self": null,
            "height": null,
            "min_height": null,
            "padding": null,
            "grid_auto_rows": null,
            "grid_gap": null,
            "max_width": null,
            "order": null,
            "_view_module_version": "1.2.0",
            "grid_template_areas": null,
            "object_position": null,
            "object_fit": null,
            "grid_auto_columns": null,
            "margin": null,
            "display": null,
            "left": null
          }
        },
        "5f3e457152014cf0a39685d61747a26d": {
          "model_module": "@jupyter-widgets/controls",
          "model_name": "DescriptionStyleModel",
          "state": {
            "_view_name": "StyleView",
            "_model_name": "DescriptionStyleModel",
            "description_width": "",
            "_view_module": "@jupyter-widgets/base",
            "_model_module_version": "1.5.0",
            "_view_count": null,
            "_view_module_version": "1.2.0",
            "_model_module": "@jupyter-widgets/controls"
          }
        },
        "4fc0dbac6f65404cbc2dfedbc5ca737a": {
          "model_module": "@jupyter-widgets/base",
          "model_name": "LayoutModel",
          "state": {
            "_view_name": "LayoutView",
            "grid_template_rows": null,
            "right": null,
            "justify_content": null,
            "_view_module": "@jupyter-widgets/base",
            "overflow": null,
            "_model_module_version": "1.2.0",
            "_view_count": null,
            "flex_flow": null,
            "width": null,
            "min_width": null,
            "border": null,
            "align_items": null,
            "bottom": null,
            "_model_module": "@jupyter-widgets/base",
            "top": null,
            "grid_column": null,
            "overflow_y": null,
            "overflow_x": null,
            "grid_auto_flow": null,
            "grid_area": null,
            "grid_template_columns": null,
            "flex": null,
            "_model_name": "LayoutModel",
            "justify_items": null,
            "grid_row": null,
            "max_height": null,
            "align_content": null,
            "visibility": null,
            "align_self": null,
            "height": null,
            "min_height": null,
            "padding": null,
            "grid_auto_rows": null,
            "grid_gap": null,
            "max_width": null,
            "order": null,
            "_view_module_version": "1.2.0",
            "grid_template_areas": null,
            "object_position": null,
            "object_fit": null,
            "grid_auto_columns": null,
            "margin": null,
            "display": null,
            "left": null
          }
        },
        "a5682d20f4f248e3994b7431b0b3c186": {
          "model_module": "@jupyter-widgets/controls",
          "model_name": "HBoxModel",
          "state": {
            "_view_name": "HBoxView",
            "_dom_classes": [],
            "_model_name": "HBoxModel",
            "_view_module": "@jupyter-widgets/controls",
            "_model_module_version": "1.5.0",
            "_view_count": null,
            "_view_module_version": "1.5.0",
            "box_style": "",
            "layout": "IPY_MODEL_12f8aedfcfba40bd97ce351291710a2a",
            "_model_module": "@jupyter-widgets/controls",
            "children": [
              "IPY_MODEL_16a333a30daa4815b1fefcd1c4bb10e4",
              "IPY_MODEL_b07f877ad3f64591b6f2b2867a0c8912"
            ]
          }
        },
        "12f8aedfcfba40bd97ce351291710a2a": {
          "model_module": "@jupyter-widgets/base",
          "model_name": "LayoutModel",
          "state": {
            "_view_name": "LayoutView",
            "grid_template_rows": null,
            "right": null,
            "justify_content": null,
            "_view_module": "@jupyter-widgets/base",
            "overflow": null,
            "_model_module_version": "1.2.0",
            "_view_count": null,
            "flex_flow": null,
            "width": null,
            "min_width": null,
            "border": null,
            "align_items": null,
            "bottom": null,
            "_model_module": "@jupyter-widgets/base",
            "top": null,
            "grid_column": null,
            "overflow_y": null,
            "overflow_x": null,
            "grid_auto_flow": null,
            "grid_area": null,
            "grid_template_columns": null,
            "flex": null,
            "_model_name": "LayoutModel",
            "justify_items": null,
            "grid_row": null,
            "max_height": null,
            "align_content": null,
            "visibility": null,
            "align_self": null,
            "height": null,
            "min_height": null,
            "padding": null,
            "grid_auto_rows": null,
            "grid_gap": null,
            "max_width": null,
            "order": null,
            "_view_module_version": "1.2.0",
            "grid_template_areas": null,
            "object_position": null,
            "object_fit": null,
            "grid_auto_columns": null,
            "margin": null,
            "display": null,
            "left": null
          }
        },
        "16a333a30daa4815b1fefcd1c4bb10e4": {
          "model_module": "@jupyter-widgets/controls",
          "model_name": "FloatProgressModel",
          "state": {
            "_view_name": "ProgressView",
            "style": "IPY_MODEL_eeb0cf20ae54482dbe2a904b4a557ecb",
            "_dom_classes": [],
            "description": "Downloading: 100%",
            "_model_name": "FloatProgressModel",
            "bar_style": "success",
            "max": 2,
            "_view_module": "@jupyter-widgets/controls",
            "_model_module_version": "1.5.0",
            "value": 2,
            "_view_count": null,
            "_view_module_version": "1.5.0",
            "orientation": "horizontal",
            "min": 0,
            "description_tooltip": null,
            "_model_module": "@jupyter-widgets/controls",
            "layout": "IPY_MODEL_09998c88a4d34dd4803c4efcdbf11212"
          }
        },
        "b07f877ad3f64591b6f2b2867a0c8912": {
          "model_module": "@jupyter-widgets/controls",
          "model_name": "HTMLModel",
          "state": {
            "_view_name": "HTMLView",
            "style": "IPY_MODEL_db3b28b4957947f19bb738b615adf31c",
            "_dom_classes": [],
            "description": "",
            "_model_name": "HTMLModel",
            "placeholder": "​",
            "_view_module": "@jupyter-widgets/controls",
            "_model_module_version": "1.5.0",
            "value": " 2.00/2.00 [00:00&lt;00:00, 19.8B/s]",
            "_view_count": null,
            "_view_module_version": "1.5.0",
            "description_tooltip": null,
            "_model_module": "@jupyter-widgets/controls",
            "layout": "IPY_MODEL_1c5017cb748341c4b306c2e26b4aca3a"
          }
        },
        "eeb0cf20ae54482dbe2a904b4a557ecb": {
          "model_module": "@jupyter-widgets/controls",
          "model_name": "ProgressStyleModel",
          "state": {
            "_view_name": "StyleView",
            "_model_name": "ProgressStyleModel",
            "description_width": "initial",
            "_view_module": "@jupyter-widgets/base",
            "_model_module_version": "1.5.0",
            "_view_count": null,
            "_view_module_version": "1.2.0",
            "bar_color": null,
            "_model_module": "@jupyter-widgets/controls"
          }
        },
        "09998c88a4d34dd4803c4efcdbf11212": {
          "model_module": "@jupyter-widgets/base",
          "model_name": "LayoutModel",
          "state": {
            "_view_name": "LayoutView",
            "grid_template_rows": null,
            "right": null,
            "justify_content": null,
            "_view_module": "@jupyter-widgets/base",
            "overflow": null,
            "_model_module_version": "1.2.0",
            "_view_count": null,
            "flex_flow": null,
            "width": null,
            "min_width": null,
            "border": null,
            "align_items": null,
            "bottom": null,
            "_model_module": "@jupyter-widgets/base",
            "top": null,
            "grid_column": null,
            "overflow_y": null,
            "overflow_x": null,
            "grid_auto_flow": null,
            "grid_area": null,
            "grid_template_columns": null,
            "flex": null,
            "_model_name": "LayoutModel",
            "justify_items": null,
            "grid_row": null,
            "max_height": null,
            "align_content": null,
            "visibility": null,
            "align_self": null,
            "height": null,
            "min_height": null,
            "padding": null,
            "grid_auto_rows": null,
            "grid_gap": null,
            "max_width": null,
            "order": null,
            "_view_module_version": "1.2.0",
            "grid_template_areas": null,
            "object_position": null,
            "object_fit": null,
            "grid_auto_columns": null,
            "margin": null,
            "display": null,
            "left": null
          }
        },
        "db3b28b4957947f19bb738b615adf31c": {
          "model_module": "@jupyter-widgets/controls",
          "model_name": "DescriptionStyleModel",
          "state": {
            "_view_name": "StyleView",
            "_model_name": "DescriptionStyleModel",
            "description_width": "",
            "_view_module": "@jupyter-widgets/base",
            "_model_module_version": "1.5.0",
            "_view_count": null,
            "_view_module_version": "1.2.0",
            "_model_module": "@jupyter-widgets/controls"
          }
        },
        "1c5017cb748341c4b306c2e26b4aca3a": {
          "model_module": "@jupyter-widgets/base",
          "model_name": "LayoutModel",
          "state": {
            "_view_name": "LayoutView",
            "grid_template_rows": null,
            "right": null,
            "justify_content": null,
            "_view_module": "@jupyter-widgets/base",
            "overflow": null,
            "_model_module_version": "1.2.0",
            "_view_count": null,
            "flex_flow": null,
            "width": null,
            "min_width": null,
            "border": null,
            "align_items": null,
            "bottom": null,
            "_model_module": "@jupyter-widgets/base",
            "top": null,
            "grid_column": null,
            "overflow_y": null,
            "overflow_x": null,
            "grid_auto_flow": null,
            "grid_area": null,
            "grid_template_columns": null,
            "flex": null,
            "_model_name": "LayoutModel",
            "justify_items": null,
            "grid_row": null,
            "max_height": null,
            "align_content": null,
            "visibility": null,
            "align_self": null,
            "height": null,
            "min_height": null,
            "padding": null,
            "grid_auto_rows": null,
            "grid_gap": null,
            "max_width": null,
            "order": null,
            "_view_module_version": "1.2.0",
            "grid_template_areas": null,
            "object_position": null,
            "object_fit": null,
            "grid_auto_columns": null,
            "margin": null,
            "display": null,
            "left": null
          }
        },
        "b8043ce222464ee88f6480d20ce806c1": {
          "model_module": "@jupyter-widgets/controls",
          "model_name": "HBoxModel",
          "state": {
            "_view_name": "HBoxView",
            "_dom_classes": [],
            "_model_name": "HBoxModel",
            "_view_module": "@jupyter-widgets/controls",
            "_model_module_version": "1.5.0",
            "_view_count": null,
            "_view_module_version": "1.5.0",
            "box_style": "",
            "layout": "IPY_MODEL_f614985106ef4bb39007817b22e83020",
            "_model_module": "@jupyter-widgets/controls",
            "children": [
              "IPY_MODEL_9495bc1a17634d3aa72a1573d1ad7246",
              "IPY_MODEL_b443b7c14bd44a2eb4cde7b671a67258"
            ]
          }
        },
        "f614985106ef4bb39007817b22e83020": {
          "model_module": "@jupyter-widgets/base",
          "model_name": "LayoutModel",
          "state": {
            "_view_name": "LayoutView",
            "grid_template_rows": null,
            "right": null,
            "justify_content": null,
            "_view_module": "@jupyter-widgets/base",
            "overflow": null,
            "_model_module_version": "1.2.0",
            "_view_count": null,
            "flex_flow": null,
            "width": null,
            "min_width": null,
            "border": null,
            "align_items": null,
            "bottom": null,
            "_model_module": "@jupyter-widgets/base",
            "top": null,
            "grid_column": null,
            "overflow_y": null,
            "overflow_x": null,
            "grid_auto_flow": null,
            "grid_area": null,
            "grid_template_columns": null,
            "flex": null,
            "_model_name": "LayoutModel",
            "justify_items": null,
            "grid_row": null,
            "max_height": null,
            "align_content": null,
            "visibility": null,
            "align_self": null,
            "height": null,
            "min_height": null,
            "padding": null,
            "grid_auto_rows": null,
            "grid_gap": null,
            "max_width": null,
            "order": null,
            "_view_module_version": "1.2.0",
            "grid_template_areas": null,
            "object_position": null,
            "object_fit": null,
            "grid_auto_columns": null,
            "margin": null,
            "display": null,
            "left": null
          }
        },
        "9495bc1a17634d3aa72a1573d1ad7246": {
          "model_module": "@jupyter-widgets/controls",
          "model_name": "FloatProgressModel",
          "state": {
            "_view_name": "ProgressView",
            "style": "IPY_MODEL_bfc20c9f31a14407b49d7e2c90254708",
            "_dom_classes": [],
            "description": "Downloading: 100%",
            "_model_name": "FloatProgressModel",
            "bar_style": "success",
            "max": 655812184,
            "_view_module": "@jupyter-widgets/controls",
            "_model_module_version": "1.5.0",
            "value": 655812184,
            "_view_count": null,
            "_view_module_version": "1.5.0",
            "orientation": "horizontal",
            "min": 0,
            "description_tooltip": null,
            "_model_module": "@jupyter-widgets/controls",
            "layout": "IPY_MODEL_730a9ee22b3b472db5af7839f516eb09"
          }
        },
        "b443b7c14bd44a2eb4cde7b671a67258": {
          "model_module": "@jupyter-widgets/controls",
          "model_name": "HTMLModel",
          "state": {
            "_view_name": "HTMLView",
            "style": "IPY_MODEL_83985ca668bd4692ae2f94d793227bde",
            "_dom_classes": [],
            "description": "",
            "_model_name": "HTMLModel",
            "placeholder": "​",
            "_view_module": "@jupyter-widgets/controls",
            "_model_module_version": "1.5.0",
            "value": " 656M/656M [00:14&lt;00:00, 44.5MB/s]",
            "_view_count": null,
            "_view_module_version": "1.5.0",
            "description_tooltip": null,
            "_model_module": "@jupyter-widgets/controls",
            "layout": "IPY_MODEL_4f6371d35f014c96bb3b9c4068a36ab6"
          }
        },
        "bfc20c9f31a14407b49d7e2c90254708": {
          "model_module": "@jupyter-widgets/controls",
          "model_name": "ProgressStyleModel",
          "state": {
            "_view_name": "StyleView",
            "_model_name": "ProgressStyleModel",
            "description_width": "initial",
            "_view_module": "@jupyter-widgets/base",
            "_model_module_version": "1.5.0",
            "_view_count": null,
            "_view_module_version": "1.2.0",
            "bar_color": null,
            "_model_module": "@jupyter-widgets/controls"
          }
        },
        "730a9ee22b3b472db5af7839f516eb09": {
          "model_module": "@jupyter-widgets/base",
          "model_name": "LayoutModel",
          "state": {
            "_view_name": "LayoutView",
            "grid_template_rows": null,
            "right": null,
            "justify_content": null,
            "_view_module": "@jupyter-widgets/base",
            "overflow": null,
            "_model_module_version": "1.2.0",
            "_view_count": null,
            "flex_flow": null,
            "width": null,
            "min_width": null,
            "border": null,
            "align_items": null,
            "bottom": null,
            "_model_module": "@jupyter-widgets/base",
            "top": null,
            "grid_column": null,
            "overflow_y": null,
            "overflow_x": null,
            "grid_auto_flow": null,
            "grid_area": null,
            "grid_template_columns": null,
            "flex": null,
            "_model_name": "LayoutModel",
            "justify_items": null,
            "grid_row": null,
            "max_height": null,
            "align_content": null,
            "visibility": null,
            "align_self": null,
            "height": null,
            "min_height": null,
            "padding": null,
            "grid_auto_rows": null,
            "grid_gap": null,
            "max_width": null,
            "order": null,
            "_view_module_version": "1.2.0",
            "grid_template_areas": null,
            "object_position": null,
            "object_fit": null,
            "grid_auto_columns": null,
            "margin": null,
            "display": null,
            "left": null
          }
        },
        "83985ca668bd4692ae2f94d793227bde": {
          "model_module": "@jupyter-widgets/controls",
          "model_name": "DescriptionStyleModel",
          "state": {
            "_view_name": "StyleView",
            "_model_name": "DescriptionStyleModel",
            "description_width": "",
            "_view_module": "@jupyter-widgets/base",
            "_model_module_version": "1.5.0",
            "_view_count": null,
            "_view_module_version": "1.2.0",
            "_model_module": "@jupyter-widgets/controls"
          }
        },
        "4f6371d35f014c96bb3b9c4068a36ab6": {
          "model_module": "@jupyter-widgets/base",
          "model_name": "LayoutModel",
          "state": {
            "_view_name": "LayoutView",
            "grid_template_rows": null,
            "right": null,
            "justify_content": null,
            "_view_module": "@jupyter-widgets/base",
            "overflow": null,
            "_model_module_version": "1.2.0",
            "_view_count": null,
            "flex_flow": null,
            "width": null,
            "min_width": null,
            "border": null,
            "align_items": null,
            "bottom": null,
            "_model_module": "@jupyter-widgets/base",
            "top": null,
            "grid_column": null,
            "overflow_y": null,
            "overflow_x": null,
            "grid_auto_flow": null,
            "grid_area": null,
            "grid_template_columns": null,
            "flex": null,
            "_model_name": "LayoutModel",
            "justify_items": null,
            "grid_row": null,
            "max_height": null,
            "align_content": null,
            "visibility": null,
            "align_self": null,
            "height": null,
            "min_height": null,
            "padding": null,
            "grid_auto_rows": null,
            "grid_gap": null,
            "max_width": null,
            "order": null,
            "_view_module_version": "1.2.0",
            "grid_template_areas": null,
            "object_position": null,
            "object_fit": null,
            "grid_auto_columns": null,
            "margin": null,
            "display": null,
            "left": null
          }
        }
      }
    }
  },
  "cells": [
    {
      "cell_type": "code",
      "metadata": {
        "id": "ZMhrW43frwOl",
        "outputId": "b61a5a25-9fcf-45af-95b9-76a678f67201",
        "colab": {
          "base_uri": "https://localhost:8080/",
          "height": 36
        }
      },
      "source": [
        "from google.colab import drive\n",
        "drive.mount('/content/drive')"
      ],
      "execution_count": null,
      "outputs": [
        {
          "output_type": "stream",
          "text": [
            "Mounted at /content/drive\n"
          ],
          "name": "stdout"
        }
      ]
    },
    {
      "cell_type": "code",
      "metadata": {
        "id": "moEDiVQ8sLkH",
        "outputId": "ba4b21a6-5bde-4add-afc9-f98cbb306d11",
        "colab": {
          "base_uri": "https://localhost:8080/",
          "height": 882
        }
      },
      "source": [
        "!pip install transformers\n",
        "!pip install pytypo"
      ],
      "execution_count": null,
      "outputs": [
        {
          "output_type": "stream",
          "text": [
            "Collecting transformers\n",
            "\u001b[?25l  Downloading https://files.pythonhosted.org/packages/2c/4e/4f1ede0fd7a36278844a277f8d53c21f88f37f3754abf76a5d6224f76d4a/transformers-3.4.0-py3-none-any.whl (1.3MB)\n",
            "\r\u001b[K     |▎                               | 10kB 21.5MB/s eta 0:00:01\r\u001b[K     |▌                               | 20kB 22.0MB/s eta 0:00:01\r\u001b[K     |▉                               | 30kB 12.2MB/s eta 0:00:01\r\u001b[K     |█                               | 40kB 8.7MB/s eta 0:00:01\r\u001b[K     |█▎                              | 51kB 7.9MB/s eta 0:00:01\r\u001b[K     |█▋                              | 61kB 8.4MB/s eta 0:00:01\r\u001b[K     |█▉                              | 71kB 7.8MB/s eta 0:00:01\r\u001b[K     |██                              | 81kB 7.8MB/s eta 0:00:01\r\u001b[K     |██▍                             | 92kB 7.9MB/s eta 0:00:01\r\u001b[K     |██▋                             | 102kB 7.9MB/s eta 0:00:01\r\u001b[K     |██▉                             | 112kB 7.9MB/s eta 0:00:01\r\u001b[K     |███▏                            | 122kB 7.9MB/s eta 0:00:01\r\u001b[K     |███▍                            | 133kB 7.9MB/s eta 0:00:01\r\u001b[K     |███▋                            | 143kB 7.9MB/s eta 0:00:01\r\u001b[K     |████                            | 153kB 7.9MB/s eta 0:00:01\r\u001b[K     |████▏                           | 163kB 7.9MB/s eta 0:00:01\r\u001b[K     |████▍                           | 174kB 7.9MB/s eta 0:00:01\r\u001b[K     |████▊                           | 184kB 7.9MB/s eta 0:00:01\r\u001b[K     |█████                           | 194kB 7.9MB/s eta 0:00:01\r\u001b[K     |█████▏                          | 204kB 7.9MB/s eta 0:00:01\r\u001b[K     |█████▌                          | 215kB 7.9MB/s eta 0:00:01\r\u001b[K     |█████▊                          | 225kB 7.9MB/s eta 0:00:01\r\u001b[K     |██████                          | 235kB 7.9MB/s eta 0:00:01\r\u001b[K     |██████▎                         | 245kB 7.9MB/s eta 0:00:01\r\u001b[K     |██████▌                         | 256kB 7.9MB/s eta 0:00:01\r\u001b[K     |██████▊                         | 266kB 7.9MB/s eta 0:00:01\r\u001b[K     |███████                         | 276kB 7.9MB/s eta 0:00:01\r\u001b[K     |███████▎                        | 286kB 7.9MB/s eta 0:00:01\r\u001b[K     |███████▋                        | 296kB 7.9MB/s eta 0:00:01\r\u001b[K     |███████▉                        | 307kB 7.9MB/s eta 0:00:01\r\u001b[K     |████████                        | 317kB 7.9MB/s eta 0:00:01\r\u001b[K     |████████▍                       | 327kB 7.9MB/s eta 0:00:01\r\u001b[K     |████████▋                       | 337kB 7.9MB/s eta 0:00:01\r\u001b[K     |████████▉                       | 348kB 7.9MB/s eta 0:00:01\r\u001b[K     |█████████▏                      | 358kB 7.9MB/s eta 0:00:01\r\u001b[K     |█████████▍                      | 368kB 7.9MB/s eta 0:00:01\r\u001b[K     |█████████▋                      | 378kB 7.9MB/s eta 0:00:01\r\u001b[K     |██████████                      | 389kB 7.9MB/s eta 0:00:01\r\u001b[K     |██████████▏                     | 399kB 7.9MB/s eta 0:00:01\r\u001b[K     |██████████▍                     | 409kB 7.9MB/s eta 0:00:01\r\u001b[K     |██████████▊                     | 419kB 7.9MB/s eta 0:00:01\r\u001b[K     |███████████                     | 430kB 7.9MB/s eta 0:00:01\r\u001b[K     |███████████▏                    | 440kB 7.9MB/s eta 0:00:01\r\u001b[K     |███████████▌                    | 450kB 7.9MB/s eta 0:00:01\r\u001b[K     |███████████▊                    | 460kB 7.9MB/s eta 0:00:01\r\u001b[K     |████████████                    | 471kB 7.9MB/s eta 0:00:01\r\u001b[K     |████████████▎                   | 481kB 7.9MB/s eta 0:00:01\r\u001b[K     |████████████▌                   | 491kB 7.9MB/s eta 0:00:01\r\u001b[K     |████████████▊                   | 501kB 7.9MB/s eta 0:00:01\r\u001b[K     |█████████████                   | 512kB 7.9MB/s eta 0:00:01\r\u001b[K     |█████████████▎                  | 522kB 7.9MB/s eta 0:00:01\r\u001b[K     |█████████████▌                  | 532kB 7.9MB/s eta 0:00:01\r\u001b[K     |█████████████▉                  | 542kB 7.9MB/s eta 0:00:01\r\u001b[K     |██████████████                  | 552kB 7.9MB/s eta 0:00:01\r\u001b[K     |██████████████▍                 | 563kB 7.9MB/s eta 0:00:01\r\u001b[K     |██████████████▋                 | 573kB 7.9MB/s eta 0:00:01\r\u001b[K     |██████████████▉                 | 583kB 7.9MB/s eta 0:00:01\r\u001b[K     |███████████████▏                | 593kB 7.9MB/s eta 0:00:01\r\u001b[K     |███████████████▍                | 604kB 7.9MB/s eta 0:00:01\r\u001b[K     |███████████████▋                | 614kB 7.9MB/s eta 0:00:01\r\u001b[K     |████████████████                | 624kB 7.9MB/s eta 0:00:01\r\u001b[K     |████████████████▏               | 634kB 7.9MB/s eta 0:00:01\r\u001b[K     |████████████████▍               | 645kB 7.9MB/s eta 0:00:01\r\u001b[K     |████████████████▊               | 655kB 7.9MB/s eta 0:00:01\r\u001b[K     |█████████████████               | 665kB 7.9MB/s eta 0:00:01\r\u001b[K     |█████████████████▏              | 675kB 7.9MB/s eta 0:00:01\r\u001b[K     |█████████████████▌              | 686kB 7.9MB/s eta 0:00:01\r\u001b[K     |█████████████████▊              | 696kB 7.9MB/s eta 0:00:01\r\u001b[K     |██████████████████              | 706kB 7.9MB/s eta 0:00:01\r\u001b[K     |██████████████████▎             | 716kB 7.9MB/s eta 0:00:01\r\u001b[K     |██████████████████▌             | 727kB 7.9MB/s eta 0:00:01\r\u001b[K     |██████████████████▊             | 737kB 7.9MB/s eta 0:00:01\r\u001b[K     |███████████████████             | 747kB 7.9MB/s eta 0:00:01\r\u001b[K     |███████████████████▎            | 757kB 7.9MB/s eta 0:00:01\r\u001b[K     |███████████████████▌            | 768kB 7.9MB/s eta 0:00:01\r\u001b[K     |███████████████████▉            | 778kB 7.9MB/s eta 0:00:01\r\u001b[K     |████████████████████            | 788kB 7.9MB/s eta 0:00:01\r\u001b[K     |████████████████████▎           | 798kB 7.9MB/s eta 0:00:01\r\u001b[K     |████████████████████▋           | 808kB 7.9MB/s eta 0:00:01\r\u001b[K     |████████████████████▉           | 819kB 7.9MB/s eta 0:00:01\r\u001b[K     |█████████████████████           | 829kB 7.9MB/s eta 0:00:01\r\u001b[K     |█████████████████████▍          | 839kB 7.9MB/s eta 0:00:01\r\u001b[K     |█████████████████████▋          | 849kB 7.9MB/s eta 0:00:01\r\u001b[K     |██████████████████████          | 860kB 7.9MB/s eta 0:00:01\r\u001b[K     |██████████████████████▏         | 870kB 7.9MB/s eta 0:00:01\r\u001b[K     |██████████████████████▍         | 880kB 7.9MB/s eta 0:00:01\r\u001b[K     |██████████████████████▊         | 890kB 7.9MB/s eta 0:00:01\r\u001b[K     |███████████████████████         | 901kB 7.9MB/s eta 0:00:01\r\u001b[K     |███████████████████████▏        | 911kB 7.9MB/s eta 0:00:01\r\u001b[K     |███████████████████████▌        | 921kB 7.9MB/s eta 0:00:01\r\u001b[K     |███████████████████████▊        | 931kB 7.9MB/s eta 0:00:01\r\u001b[K     |████████████████████████        | 942kB 7.9MB/s eta 0:00:01\r\u001b[K     |████████████████████████▎       | 952kB 7.9MB/s eta 0:00:01\r\u001b[K     |████████████████████████▌       | 962kB 7.9MB/s eta 0:00:01\r\u001b[K     |████████████████████████▊       | 972kB 7.9MB/s eta 0:00:01\r\u001b[K     |█████████████████████████       | 983kB 7.9MB/s eta 0:00:01\r\u001b[K     |█████████████████████████▎      | 993kB 7.9MB/s eta 0:00:01\r\u001b[K     |█████████████████████████▌      | 1.0MB 7.9MB/s eta 0:00:01\r\u001b[K     |█████████████████████████▉      | 1.0MB 7.9MB/s eta 0:00:01\r\u001b[K     |██████████████████████████      | 1.0MB 7.9MB/s eta 0:00:01\r\u001b[K     |██████████████████████████▎     | 1.0MB 7.9MB/s eta 0:00:01\r\u001b[K     |██████████████████████████▋     | 1.0MB 7.9MB/s eta 0:00:01\r\u001b[K     |██████████████████████████▉     | 1.1MB 7.9MB/s eta 0:00:01\r\u001b[K     |███████████████████████████     | 1.1MB 7.9MB/s eta 0:00:01\r\u001b[K     |███████████████████████████▍    | 1.1MB 7.9MB/s eta 0:00:01\r\u001b[K     |███████████████████████████▋    | 1.1MB 7.9MB/s eta 0:00:01\r\u001b[K     |███████████████████████████▉    | 1.1MB 7.9MB/s eta 0:00:01\r\u001b[K     |████████████████████████████▏   | 1.1MB 7.9MB/s eta 0:00:01\r\u001b[K     |████████████████████████████▍   | 1.1MB 7.9MB/s eta 0:00:01\r\u001b[K     |████████████████████████████▊   | 1.1MB 7.9MB/s eta 0:00:01\r\u001b[K     |█████████████████████████████   | 1.1MB 7.9MB/s eta 0:00:01\r\u001b[K     |█████████████████████████████▏  | 1.1MB 7.9MB/s eta 0:00:01\r\u001b[K     |█████████████████████████████▌  | 1.2MB 7.9MB/s eta 0:00:01\r\u001b[K     |█████████████████████████████▊  | 1.2MB 7.9MB/s eta 0:00:01\r\u001b[K     |██████████████████████████████  | 1.2MB 7.9MB/s eta 0:00:01\r\u001b[K     |██████████████████████████████▎ | 1.2MB 7.9MB/s eta 0:00:01\r\u001b[K     |██████████████████████████████▌ | 1.2MB 7.9MB/s eta 0:00:01\r\u001b[K     |██████████████████████████████▊ | 1.2MB 7.9MB/s eta 0:00:01\r\u001b[K     |███████████████████████████████ | 1.2MB 7.9MB/s eta 0:00:01\r\u001b[K     |███████████████████████████████▎| 1.2MB 7.9MB/s eta 0:00:01\r\u001b[K     |███████████████████████████████▌| 1.2MB 7.9MB/s eta 0:00:01\r\u001b[K     |███████████████████████████████▉| 1.2MB 7.9MB/s eta 0:00:01\r\u001b[K     |████████████████████████████████| 1.3MB 7.9MB/s \n",
            "\u001b[?25hRequirement already satisfied: requests in /usr/local/lib/python3.6/dist-packages (from transformers) (2.23.0)\n",
            "Requirement already satisfied: dataclasses; python_version < \"3.7\" in /usr/local/lib/python3.6/dist-packages (from transformers) (0.7)\n",
            "Requirement already satisfied: tqdm>=4.27 in /usr/local/lib/python3.6/dist-packages (from transformers) (4.41.1)\n",
            "Requirement already satisfied: numpy in /usr/local/lib/python3.6/dist-packages (from transformers) (1.18.5)\n",
            "Collecting sentencepiece!=0.1.92\n",
            "\u001b[?25l  Downloading https://files.pythonhosted.org/packages/e5/2d/6d4ca4bef9a67070fa1cac508606328329152b1df10bdf31fb6e4e727894/sentencepiece-0.1.94-cp36-cp36m-manylinux2014_x86_64.whl (1.1MB)\n",
            "\u001b[K     |████████████████████████████████| 1.1MB 46.3MB/s \n",
            "\u001b[?25hCollecting sacremoses\n",
            "\u001b[?25l  Downloading https://files.pythonhosted.org/packages/7d/34/09d19aff26edcc8eb2a01bed8e98f13a1537005d31e95233fd48216eed10/sacremoses-0.0.43.tar.gz (883kB)\n",
            "\u001b[K     |████████████████████████████████| 890kB 52.2MB/s \n",
            "\u001b[?25hRequirement already satisfied: protobuf in /usr/local/lib/python3.6/dist-packages (from transformers) (3.12.4)\n",
            "Requirement already satisfied: packaging in /usr/local/lib/python3.6/dist-packages (from transformers) (20.4)\n",
            "Requirement already satisfied: regex!=2019.12.17 in /usr/local/lib/python3.6/dist-packages (from transformers) (2019.12.20)\n",
            "Collecting tokenizers==0.9.2\n",
            "\u001b[?25l  Downloading https://files.pythonhosted.org/packages/7c/a5/78be1a55b2ac8d6a956f0a211d372726e2b1dd2666bb537fea9b03abd62c/tokenizers-0.9.2-cp36-cp36m-manylinux1_x86_64.whl (2.9MB)\n",
            "\u001b[K     |████████████████████████████████| 2.9MB 17.1MB/s \n",
            "\u001b[?25hRequirement already satisfied: filelock in /usr/local/lib/python3.6/dist-packages (from transformers) (3.0.12)\n",
            "Requirement already satisfied: urllib3!=1.25.0,!=1.25.1,<1.26,>=1.21.1 in /usr/local/lib/python3.6/dist-packages (from requests->transformers) (1.24.3)\n",
            "Requirement already satisfied: certifi>=2017.4.17 in /usr/local/lib/python3.6/dist-packages (from requests->transformers) (2020.6.20)\n",
            "Requirement already satisfied: chardet<4,>=3.0.2 in /usr/local/lib/python3.6/dist-packages (from requests->transformers) (3.0.4)\n",
            "Requirement already satisfied: idna<3,>=2.5 in /usr/local/lib/python3.6/dist-packages (from requests->transformers) (2.10)\n",
            "Requirement already satisfied: six in /usr/local/lib/python3.6/dist-packages (from sacremoses->transformers) (1.15.0)\n",
            "Requirement already satisfied: click in /usr/local/lib/python3.6/dist-packages (from sacremoses->transformers) (7.1.2)\n",
            "Requirement already satisfied: joblib in /usr/local/lib/python3.6/dist-packages (from sacremoses->transformers) (0.17.0)\n",
            "Requirement already satisfied: setuptools in /usr/local/lib/python3.6/dist-packages (from protobuf->transformers) (50.3.0)\n",
            "Requirement already satisfied: pyparsing>=2.0.2 in /usr/local/lib/python3.6/dist-packages (from packaging->transformers) (2.4.7)\n",
            "Building wheels for collected packages: sacremoses\n",
            "  Building wheel for sacremoses (setup.py) ... \u001b[?25l\u001b[?25hdone\n",
            "  Created wheel for sacremoses: filename=sacremoses-0.0.43-cp36-none-any.whl size=893257 sha256=d22e090ecac7d94557506ff894a9ae5f23b951f7bf29767bc8f716f4117b0feb\n",
            "  Stored in directory: /root/.cache/pip/wheels/29/3c/fd/7ce5c3f0666dab31a50123635e6fb5e19ceb42ce38d4e58f45\n",
            "Successfully built sacremoses\n",
            "Installing collected packages: sentencepiece, sacremoses, tokenizers, transformers\n",
            "Successfully installed sacremoses-0.0.43 sentencepiece-0.1.94 tokenizers-0.9.2 transformers-3.4.0\n",
            "Collecting pytypo\n",
            "\u001b[?25l  Downloading https://files.pythonhosted.org/packages/9f/80/b0578690bcac288cf9af76abecf2fd30978ea75ebe67da817c018c444abb/pytypo-0.3.0.tar.gz (74kB)\n",
            "\u001b[K     |████████████████████████████████| 81kB 7.4MB/s \n",
            "\u001b[?25hBuilding wheels for collected packages: pytypo\n",
            "  Building wheel for pytypo (setup.py) ... \u001b[?25l\u001b[?25hdone\n",
            "  Created wheel for pytypo: filename=pytypo-0.3.0-cp36-none-any.whl size=72689 sha256=fbee0da38e2393f3477ee503f55447a7d37cf45da02b1f109a2325468137c757\n",
            "  Stored in directory: /root/.cache/pip/wheels/f3/81/55/d305159b9e1631c244110dc3b131b1d0dcf041672dd2e8de9a\n",
            "Successfully built pytypo\n",
            "Installing collected packages: pytypo\n",
            "Successfully installed pytypo-0.3.0\n"
          ],
          "name": "stdout"
        }
      ]
    },
    {
      "cell_type": "code",
      "metadata": {
        "id": "DQZYwmA3te9U",
        "outputId": "2d31426e-e40e-460e-a226-561517c994ad",
        "colab": {
          "base_uri": "https://localhost:8080/",
          "height": 205
        }
      },
      "source": [
        "pip install emoji"
      ],
      "execution_count": null,
      "outputs": [
        {
          "output_type": "stream",
          "text": [
            "Collecting emoji\n",
            "\u001b[?25l  Downloading https://files.pythonhosted.org/packages/ff/1c/1f1457fe52d0b30cbeebfd578483cedb3e3619108d2d5a21380dfecf8ffd/emoji-0.6.0.tar.gz (51kB)\n",
            "\r\u001b[K     |██████▍                         | 10kB 19.2MB/s eta 0:00:01\r\u001b[K     |████████████▉                   | 20kB 22.9MB/s eta 0:00:01\r\u001b[K     |███████████████████▎            | 30kB 14.2MB/s eta 0:00:01\r\u001b[K     |█████████████████████████▊      | 40kB 9.6MB/s eta 0:00:01\r\u001b[K     |████████████████████████████████| 51kB 4.7MB/s \n",
            "\u001b[?25hBuilding wheels for collected packages: emoji\n",
            "  Building wheel for emoji (setup.py) ... \u001b[?25l\u001b[?25hdone\n",
            "  Created wheel for emoji: filename=emoji-0.6.0-cp36-none-any.whl size=49716 sha256=0fbf816407148a40afa816a4368b420ec58a3d569db539b6188232c631507106\n",
            "  Stored in directory: /root/.cache/pip/wheels/46/2c/8b/9dcf5216ca68e14e0320e283692dce8ae321cdc01e73e17796\n",
            "Successfully built emoji\n",
            "Installing collected packages: emoji\n",
            "Successfully installed emoji-0.6.0\n"
          ],
          "name": "stdout"
        }
      ]
    },
    {
      "cell_type": "code",
      "metadata": {
        "id": "k9iQhLi2sa5j",
        "outputId": "9a48de91-8402-4b48-c638-6f5cd01fc3cd",
        "colab": {
          "base_uri": "https://localhost:8080/",
          "height": 299
        }
      },
      "source": [
        "import pandas as pd\n",
        "import numpy as np\n",
        "import pytypo\n",
        "import re\n",
        "import tensorflow as tf\n",
        "import tensorflow_addons as tfa\n",
        "import emoji\n",
        "\n",
        "AUTO = tf.data.experimental.AUTOTUNE\n",
        "\n",
        "data1 = pd.read_excel(\"/content/drive/My Drive/DimasASu/Data Latih BDC.xlsx\")\n",
        "data2 = pd.read_csv(\"/content/drive/My Drive/DimasASu/data_clean.csv\")\n",
        "\n",
        "dataTest = pd.read_csv(\"/content/drive/My Drive/DimasASu/datatest_labelled.csv\")\n",
        "\n",
        "data1.head() , data2.head()"
      ],
      "execution_count": null,
      "outputs": [
        {
          "output_type": "execute_result",
          "data": {
            "text/plain": [
              "(    ID  ...  nama file gambar\n",
              " 0   71  ...            71.jpg\n",
              " 1  461  ...           461.png\n",
              " 2  495  ...           495.png\n",
              " 3  550  ...           550.png\n",
              " 4  681  ...           681.jpg\n",
              " \n",
              " [5 rows x 6 columns],    Unnamed: 0  ... label\n",
              " 0           0  ...     1\n",
              " 1           1  ...     1\n",
              " 2           2  ...     1\n",
              " 3           3  ...     1\n",
              " 4           4  ...     1\n",
              " \n",
              " [5 rows x 4 columns])"
            ]
          },
          "metadata": {
            "tags": []
          },
          "execution_count": 6
        }
      ]
    },
    {
      "cell_type": "code",
      "metadata": {
        "id": "a4JvJKFutI73",
        "outputId": "198b0d29-a235-471f-93f2-d6865d86e103",
        "colab": {
          "base_uri": "https://localhost:8080/",
          "height": 111
        }
      },
      "source": [
        "print(f\"Columns1 {data1.columns}\\nColumns2 {data2.columns}\\n\\nShape1{data1.shape }\\nShape2{data2.shape} \")"
      ],
      "execution_count": null,
      "outputs": [
        {
          "output_type": "stream",
          "text": [
            "Columns1 Index(['ID', 'label', 'tanggal', 'judul', 'narasi', 'nama file gambar'], dtype='object')\n",
            "Columns2 Index(['Unnamed: 0', 'judul', 'narasi', 'label'], dtype='object')\n",
            "\n",
            "Shape1(4231, 6)\n",
            "Shape2(5432, 4) \n"
          ],
          "name": "stdout"
        }
      ]
    },
    {
      "cell_type": "code",
      "metadata": {
        "id": "M7283ARTtsY1",
        "outputId": "d06c750c-f8b6-4311-c932-b5430d853a0c",
        "colab": {
          "base_uri": "https://localhost:8080/",
          "height": 207
        }
      },
      "source": [
        "data1 = data1[[\"judul\",\"narasi\",\"label\"]]\n",
        "data2 = data2[[\"judul\",\"narasi\",\"label\"]]\n",
        "\n",
        "df_train = pd.concat([data1,data2])\n",
        "df_train = df_train.reset_index().drop(\"index\",axis = 1)\n",
        "df_train.tail()"
      ],
      "execution_count": null,
      "outputs": [
        {
          "output_type": "execute_result",
          "data": {
            "text/html": [
              "<div>\n",
              "<style scoped>\n",
              "    .dataframe tbody tr th:only-of-type {\n",
              "        vertical-align: middle;\n",
              "    }\n",
              "\n",
              "    .dataframe tbody tr th {\n",
              "        vertical-align: top;\n",
              "    }\n",
              "\n",
              "    .dataframe thead th {\n",
              "        text-align: right;\n",
              "    }\n",
              "</style>\n",
              "<table border=\"1\" class=\"dataframe\">\n",
              "  <thead>\n",
              "    <tr style=\"text-align: right;\">\n",
              "      <th></th>\n",
              "      <th>judul</th>\n",
              "      <th>narasi</th>\n",
              "      <th>label</th>\n",
              "    </tr>\n",
              "  </thead>\n",
              "  <tbody>\n",
              "    <tr>\n",
              "      <th>9658</th>\n",
              "      <td>foto raja salman mengangkat tandu jenazah korb...</td>\n",
              "      <td>foto raja salman mengangkat tandu jenazah korb...</td>\n",
              "      <td>1</td>\n",
              "    </tr>\n",
              "    <tr>\n",
              "      <th>9659</th>\n",
              "      <td>jokowi dituduh bodoh salah cara dalam bersalam...</td>\n",
              "      <td>jokowi dituduh bodoh salah cara dalam bersalam...</td>\n",
              "      <td>1</td>\n",
              "    </tr>\n",
              "    <tr>\n",
              "      <th>9660</th>\n",
              "      <td>jokowi dituduh memasukkan ribuan tenaga kerja ...</td>\n",
              "      <td>jokowi dituduh memasukkan ribuan tenaga kerja ...</td>\n",
              "      <td>1</td>\n",
              "    </tr>\n",
              "    <tr>\n",
              "      <th>9661</th>\n",
              "      <td>mata uang rupiah terpuruk</td>\n",
              "      <td>mata uang rupiah terpuruk</td>\n",
              "      <td>1</td>\n",
              "    </tr>\n",
              "    <tr>\n",
              "      <th>9662</th>\n",
              "      <td>ahok izinkan natalan di monas tapi larang peng...</td>\n",
              "      <td>ahok izinkan natalan di monas tapi larang peng...</td>\n",
              "      <td>1</td>\n",
              "    </tr>\n",
              "  </tbody>\n",
              "</table>\n",
              "</div>"
            ],
            "text/plain": [
              "                                                  judul  ... label\n",
              "9658  foto raja salman mengangkat tandu jenazah korb...  ...     1\n",
              "9659  jokowi dituduh bodoh salah cara dalam bersalam...  ...     1\n",
              "9660  jokowi dituduh memasukkan ribuan tenaga kerja ...  ...     1\n",
              "9661                          mata uang rupiah terpuruk  ...     1\n",
              "9662  ahok izinkan natalan di monas tapi larang peng...  ...     1\n",
              "\n",
              "[5 rows x 3 columns]"
            ]
          },
          "metadata": {
            "tags": []
          },
          "execution_count": 7
        }
      ]
    },
    {
      "cell_type": "code",
      "metadata": {
        "id": "04kDvaKmwk8h",
        "outputId": "b5dc37e5-342e-4205-a0ff-7db3f0222157",
        "colab": {
          "base_uri": "https://localhost:8080/",
          "height": 167
        }
      },
      "source": [
        "print(df_train.isna().sum())\n",
        "df_train.dropna(inplace = True)\n",
        "df_train.isna().sum() , df_train.shape"
      ],
      "execution_count": null,
      "outputs": [
        {
          "output_type": "stream",
          "text": [
            "judul     1\n",
            "narasi    3\n",
            "label     0\n",
            "dtype: int64\n"
          ],
          "name": "stdout"
        },
        {
          "output_type": "execute_result",
          "data": {
            "text/plain": [
              "(judul     0\n",
              " narasi    0\n",
              " label     0\n",
              " dtype: int64, (9660, 3))"
            ]
          },
          "metadata": {
            "tags": []
          },
          "execution_count": 8
        }
      ]
    },
    {
      "cell_type": "code",
      "metadata": {
        "id": "nKFCS6ytxQCl",
        "outputId": "352694d3-3d35-41fe-d4e0-40edf5946f93",
        "colab": {
          "base_uri": "https://localhost:8080/",
          "height": 36
        }
      },
      "source": [
        "sameIndex = []\n",
        "for key1,val in df_train[\"judul\"].items():\n",
        "  i = 0\n",
        "  for key2,val in dataTest[\"judul\"].items():\n",
        "    if(key1 == key2):\n",
        "      sameIndex.append(i)\n",
        "    else:\n",
        "      i = i + 1\n",
        "len(sameIndex)\n",
        "\n",
        "df_train = df_train.drop(sameIndex)\n",
        "df_train.shape"
      ],
      "execution_count": null,
      "outputs": [
        {
          "output_type": "execute_result",
          "data": {
            "text/plain": [
              "(9190, 3)"
            ]
          },
          "metadata": {
            "tags": []
          },
          "execution_count": 9
        }
      ]
    },
    {
      "cell_type": "code",
      "metadata": {
        "id": "Oi07SB_ByRjl",
        "outputId": "8462c69b-dcff-45d4-e30b-ffbead891a24",
        "colab": {
          "base_uri": "https://localhost:8080/",
          "height": 207
        }
      },
      "source": [
        "df_train = df_train.sample(frac=1,random_state = 0)\n",
        "df_train.head()"
      ],
      "execution_count": null,
      "outputs": [
        {
          "output_type": "execute_result",
          "data": {
            "text/html": [
              "<div>\n",
              "<style scoped>\n",
              "    .dataframe tbody tr th:only-of-type {\n",
              "        vertical-align: middle;\n",
              "    }\n",
              "\n",
              "    .dataframe tbody tr th {\n",
              "        vertical-align: top;\n",
              "    }\n",
              "\n",
              "    .dataframe thead th {\n",
              "        text-align: right;\n",
              "    }\n",
              "</style>\n",
              "<table border=\"1\" class=\"dataframe\">\n",
              "  <thead>\n",
              "    <tr style=\"text-align: right;\">\n",
              "      <th></th>\n",
              "      <th>judul</th>\n",
              "      <th>narasi</th>\n",
              "      <th>label</th>\n",
              "    </tr>\n",
              "  </thead>\n",
              "  <tbody>\n",
              "    <tr>\n",
              "      <th>2737</th>\n",
              "      <td>Penemuan Sabu di Dalam Nanas Terjadi di Indonesia</td>\n",
              "      <td>Nanas illegal isinya sabu2 yg dikemas. Nanas b...</td>\n",
              "      <td>1</td>\n",
              "    </tr>\n",
              "    <tr>\n",
              "      <th>2487</th>\n",
              "      <td>Jokowi Angkat Bicara Terkait Demo Massa #2019G...</td>\n",
              "      <td>Demo silahkan, tapi mbok yang pinter dikit.</td>\n",
              "      <td>1</td>\n",
              "    </tr>\n",
              "    <tr>\n",
              "      <th>9575</th>\n",
              "      <td>warsito dilarang melakukan riset kanker oleh p...</td>\n",
              "      <td>warsito dilarang melakukan riset kanker oleh p...</td>\n",
              "      <td>1</td>\n",
              "    </tr>\n",
              "    <tr>\n",
              "      <th>6423</th>\n",
              "      <td>pengurus imi bantah ada korban jiwa di kecelak...</td>\n",
              "      <td>pengurus imi bantah ada korban jiwa di kecelak...</td>\n",
              "      <td>1</td>\n",
              "    </tr>\n",
              "    <tr>\n",
              "      <th>7069</th>\n",
              "      <td>terakhir yang diketahui adalah terhadap sam lo...</td>\n",
              "      <td>ternyata penggunaan ular untuk interogasi oran...</td>\n",
              "      <td>1</td>\n",
              "    </tr>\n",
              "  </tbody>\n",
              "</table>\n",
              "</div>"
            ],
            "text/plain": [
              "                                                  judul  ... label\n",
              "2737  Penemuan Sabu di Dalam Nanas Terjadi di Indonesia  ...     1\n",
              "2487  Jokowi Angkat Bicara Terkait Demo Massa #2019G...  ...     1\n",
              "9575  warsito dilarang melakukan riset kanker oleh p...  ...     1\n",
              "6423  pengurus imi bantah ada korban jiwa di kecelak...  ...     1\n",
              "7069  terakhir yang diketahui adalah terhadap sam lo...  ...     1\n",
              "\n",
              "[5 rows x 3 columns]"
            ]
          },
          "metadata": {
            "tags": []
          },
          "execution_count": 10
        }
      ]
    },
    {
      "cell_type": "code",
      "metadata": {
        "id": "nADxYf1-u5Jf"
      },
      "source": [
        "def clean(text) : \n",
        "\n",
        "  text_cleaning_re = \"@\\S+|https?:\\S+|http?:\\S|[#]+|[^A-Za-z0-9]+\"\n",
        "  text_cleaning_hash = \"#[A-Za-z0-9]+\" \n",
        "  text_cleaning_num = \"(^|\\W)\\d+\"\n",
        "\n",
        "  text = re.sub(text_cleaning_hash, \" \", text).strip()\n",
        "  text = re.sub(text_cleaning_num, \" \", text).strip()\n",
        "  text = re.sub(text_cleaning_re, \" \", text).strip()\n",
        "  \n",
        "  text = text.strip()\n",
        "\n",
        "  out = []\n",
        "  for word in text.split() :\n",
        "    # try : \n",
        "    #   out.append(word.replace(word, slang[word]))\n",
        "    # except Exception as e : \n",
        "    out.append(word)\n",
        "      \n",
        "  return pytypo.correct_sentence(\" \".join(out).strip())\n"
      ],
      "execution_count": null,
      "outputs": []
    },
    {
      "cell_type": "code",
      "metadata": {
        "id": "vEu833DttO9o"
      },
      "source": [
        "def freeEmoji(text):\n",
        "    allchars = [str for str in text]\n",
        "    emoji_list = [c for c in allchars if c in emoji.UNICODE_EMOJI]\n",
        "    clean_text = ' '.join([str for str in text.split() if not any(i in str for i in emoji_list)])\n",
        "    return clean_text"
      ],
      "execution_count": null,
      "outputs": []
    },
    {
      "cell_type": "code",
      "metadata": {
        "id": "m7o2XIzrve5S"
      },
      "source": [
        "df_train[\"narasi\"] = df_train[\"narasi\"].apply(clean)\n",
        "df_train[\"judul\"] = df_train[\"judul\"].apply(clean)\n",
        "\n",
        "dataTest[\"narasi\"] = dataTest[\"narasi\"].apply(clean)\n",
        "dataTest[\"judul\"] = dataTest[\"judul\"].apply(clean)\n",
        "\n",
        "df_train[\"narasi\"] = df_train[\"narasi\"].apply(freeEmoji)\n",
        "df_train[\"judul\"] = df_train[\"judul\"].apply(freeEmoji)\n",
        "\n",
        "dataTest[\"narasi\"] = dataTest[\"narasi\"].apply(freeEmoji)\n",
        "dataTest[\"judul\"] = dataTest[\"judul\"].apply(freeEmoji)\n",
        "\n"
      ],
      "execution_count": null,
      "outputs": []
    },
    {
      "cell_type": "code",
      "metadata": {
        "id": "_nk7Rek4uLkY",
        "outputId": "a8af8095-cd30-4e5a-e479-ebe6cfaca9e0",
        "colab": {
          "base_uri": "https://localhost:8080/",
          "height": 363
        }
      },
      "source": [
        "df_train.head(10)"
      ],
      "execution_count": null,
      "outputs": [
        {
          "output_type": "execute_result",
          "data": {
            "text/html": [
              "<div>\n",
              "<style scoped>\n",
              "    .dataframe tbody tr th:only-of-type {\n",
              "        vertical-align: middle;\n",
              "    }\n",
              "\n",
              "    .dataframe tbody tr th {\n",
              "        vertical-align: top;\n",
              "    }\n",
              "\n",
              "    .dataframe thead th {\n",
              "        text-align: right;\n",
              "    }\n",
              "</style>\n",
              "<table border=\"1\" class=\"dataframe\">\n",
              "  <thead>\n",
              "    <tr style=\"text-align: right;\">\n",
              "      <th></th>\n",
              "      <th>judul</th>\n",
              "      <th>narasi</th>\n",
              "      <th>label</th>\n",
              "    </tr>\n",
              "  </thead>\n",
              "  <tbody>\n",
              "    <tr>\n",
              "      <th>2737</th>\n",
              "      <td>Penemuan Sabu di Dalam Nanas Terjadi di Indonesia</td>\n",
              "      <td>Nanas illegal isinya sabu2 yg dikemas Nanas bu...</td>\n",
              "      <td>1</td>\n",
              "    </tr>\n",
              "    <tr>\n",
              "      <th>2487</th>\n",
              "      <td>Jokowi Angkat Bicara Terkait Demo Massa di dep...</td>\n",
              "      <td>Demo silahkan tapi mbok yang pinter dikit</td>\n",
              "      <td>1</td>\n",
              "    </tr>\n",
              "    <tr>\n",
              "      <th>9575</th>\n",
              "      <td>warsito dilarang melakukan riset kanker oleh p...</td>\n",
              "      <td>warsito dilarang melakukan riset kanker oleh p...</td>\n",
              "      <td>1</td>\n",
              "    </tr>\n",
              "    <tr>\n",
              "      <th>6423</th>\n",
              "      <td>pengurus imi bantah ada korban jiwa di kecelak...</td>\n",
              "      <td>pengurus imi bantah ada korban jiwa di kecelak...</td>\n",
              "      <td>1</td>\n",
              "    </tr>\n",
              "    <tr>\n",
              "      <th>7069</th>\n",
              "      <td>terakhir yang diketahui adalah terhadap sam lo...</td>\n",
              "      <td>ternyata penggunaan ular untuk interogasi oran...</td>\n",
              "      <td>1</td>\n",
              "    </tr>\n",
              "    <tr>\n",
              "      <th>7703</th>\n",
              "      <td>penculikan anak di kusan hilir kabupaten tanah...</td>\n",
              "      <td>info ini bukan hoax sdh terjadi di ds batuah d...</td>\n",
              "      <td>1</td>\n",
              "    </tr>\n",
              "    <tr>\n",
              "      <th>9087</th>\n",
              "      <td>dana santunan korban crane sudah cair tapi bel...</td>\n",
              "      <td>dana santunan korban crane sudah cair tapi bel...</td>\n",
              "      <td>1</td>\n",
              "    </tr>\n",
              "    <tr>\n",
              "      <th>8761</th>\n",
              "      <td>jokowi bukan seorang insinyur</td>\n",
              "      <td>jokowi bukan seorang insinyur</td>\n",
              "      <td>1</td>\n",
              "    </tr>\n",
              "    <tr>\n",
              "      <th>8369</th>\n",
              "      <td>tiang girder proyek becakayu ambruk waskita ka...</td>\n",
              "      <td>tiang girder proyek becakayu ambruk waskita ka...</td>\n",
              "      <td>1</td>\n",
              "    </tr>\n",
              "    <tr>\n",
              "      <th>4745</th>\n",
              "      <td>raja salman telah meninggal dan terindikasikan...</td>\n",
              "      <td>raja salman telah meninggal dan terindikasikan...</td>\n",
              "      <td>1</td>\n",
              "    </tr>\n",
              "  </tbody>\n",
              "</table>\n",
              "</div>"
            ],
            "text/plain": [
              "                                                  judul  ... label\n",
              "2737  Penemuan Sabu di Dalam Nanas Terjadi di Indonesia  ...     1\n",
              "2487  Jokowi Angkat Bicara Terkait Demo Massa di dep...  ...     1\n",
              "9575  warsito dilarang melakukan riset kanker oleh p...  ...     1\n",
              "6423  pengurus imi bantah ada korban jiwa di kecelak...  ...     1\n",
              "7069  terakhir yang diketahui adalah terhadap sam lo...  ...     1\n",
              "7703  penculikan anak di kusan hilir kabupaten tanah...  ...     1\n",
              "9087  dana santunan korban crane sudah cair tapi bel...  ...     1\n",
              "8761                      jokowi bukan seorang insinyur  ...     1\n",
              "8369  tiang girder proyek becakayu ambruk waskita ka...  ...     1\n",
              "4745  raja salman telah meninggal dan terindikasikan...  ...     1\n",
              "\n",
              "[10 rows x 3 columns]"
            ]
          },
          "metadata": {
            "tags": []
          },
          "execution_count": 381
        }
      ]
    },
    {
      "cell_type": "code",
      "metadata": {
        "id": "lvTsFSp-zY-6",
        "outputId": "351090e6-f75a-4009-9f25-8035a754bb82",
        "colab": {
          "base_uri": "https://localhost:8080/",
          "height": 385,
          "referenced_widgets": [
            "3e4508ca86b04b88a4d58a6d15ba3ded",
            "3b4165910c704f21b744c58c8871eb9a",
            "e4f81dca5a06403db1ca306ea79db5d2",
            "458341848df54824b9e97a7fdc2d9a71",
            "530a8907d46b47a68b9cd0d88e90fc86",
            "ccadc1a10e68457faf0352316c94f47a",
            "e6378eefca04497bb0780fcb6c10414f",
            "fa3058a7cc8140e387ce6a7cc7295a27",
            "be6757071b1c46a0a0654d14def1ee92",
            "7cd1ab4a3222489eb5867129e8ad3082",
            "46873750c49d49a0a16267560ec874a0",
            "e08f2254bf0041198c0eb8f8d14e3bd9",
            "1a858dd75c1c4390bb396fd637d2f8b0",
            "2c51966fbce7480aadc26df0ca455f2b",
            "047ccfb9559b4cb49f5f5e63d39eab04",
            "65ce310ff6534e41a48c94f014b55fa9",
            "f3b6431a5eeb47fbbe4ee1e38e990a50",
            "60e662488da94c72b29e13f41a6801c6",
            "a455b8c8cf724a8aa75f19ef29b36c33",
            "532c8ac8b8b44b1b80cc8bad76ca6d75",
            "d97571faf0a7485a8a449a4f413502c3",
            "04747ddf5a9a4657a49deaf6b91cf44c",
            "5f3e457152014cf0a39685d61747a26d",
            "4fc0dbac6f65404cbc2dfedbc5ca737a",
            "a5682d20f4f248e3994b7431b0b3c186",
            "12f8aedfcfba40bd97ce351291710a2a",
            "16a333a30daa4815b1fefcd1c4bb10e4",
            "b07f877ad3f64591b6f2b2867a0c8912",
            "eeb0cf20ae54482dbe2a904b4a557ecb",
            "09998c88a4d34dd4803c4efcdbf11212",
            "db3b28b4957947f19bb738b615adf31c",
            "1c5017cb748341c4b306c2e26b4aca3a",
            "b8043ce222464ee88f6480d20ce806c1",
            "f614985106ef4bb39007817b22e83020",
            "9495bc1a17634d3aa72a1573d1ad7246",
            "b443b7c14bd44a2eb4cde7b671a67258",
            "bfc20c9f31a14407b49d7e2c90254708",
            "730a9ee22b3b472db5af7839f516eb09",
            "83985ca668bd4692ae2f94d793227bde",
            "4f6371d35f014c96bb3b9c4068a36ab6"
          ]
        }
      },
      "source": [
        "from transformers import AutoTokenizer,TFAutoModel,AutoModel\n",
        "tokenizer = AutoTokenizer.from_pretrained(\"indobenchmark/indobert-base-p2\")\n",
        "IndoBert = TFAutoModel.from_pretrained(\"indobenchmark/indobert-base-p2\")"
      ],
      "execution_count": null,
      "outputs": [
        {
          "output_type": "display_data",
          "data": {
            "application/vnd.jupyter.widget-view+json": {
              "model_id": "3e4508ca86b04b88a4d58a6d15ba3ded",
              "version_minor": 0,
              "version_major": 2
            },
            "text/plain": [
              "HBox(children=(FloatProgress(value=0.0, description='Downloading', max=1534.0, style=ProgressStyle(description…"
            ]
          },
          "metadata": {
            "tags": []
          }
        },
        {
          "output_type": "stream",
          "text": [
            "\n"
          ],
          "name": "stdout"
        },
        {
          "output_type": "display_data",
          "data": {
            "application/vnd.jupyter.widget-view+json": {
              "model_id": "be6757071b1c46a0a0654d14def1ee92",
              "version_minor": 0,
              "version_major": 2
            },
            "text/plain": [
              "HBox(children=(FloatProgress(value=0.0, description='Downloading', max=229167.0, style=ProgressStyle(descripti…"
            ]
          },
          "metadata": {
            "tags": []
          }
        },
        {
          "output_type": "stream",
          "text": [
            "\n"
          ],
          "name": "stdout"
        },
        {
          "output_type": "display_data",
          "data": {
            "application/vnd.jupyter.widget-view+json": {
              "model_id": "f3b6431a5eeb47fbbe4ee1e38e990a50",
              "version_minor": 0,
              "version_major": 2
            },
            "text/plain": [
              "HBox(children=(FloatProgress(value=0.0, description='Downloading', max=112.0, style=ProgressStyle(description_…"
            ]
          },
          "metadata": {
            "tags": []
          }
        },
        {
          "output_type": "stream",
          "text": [
            "\n"
          ],
          "name": "stdout"
        },
        {
          "output_type": "display_data",
          "data": {
            "application/vnd.jupyter.widget-view+json": {
              "model_id": "a5682d20f4f248e3994b7431b0b3c186",
              "version_minor": 0,
              "version_major": 2
            },
            "text/plain": [
              "HBox(children=(FloatProgress(value=0.0, description='Downloading', max=2.0, style=ProgressStyle(description_wi…"
            ]
          },
          "metadata": {
            "tags": []
          }
        },
        {
          "output_type": "stream",
          "text": [
            "\n"
          ],
          "name": "stdout"
        },
        {
          "output_type": "display_data",
          "data": {
            "application/vnd.jupyter.widget-view+json": {
              "model_id": "b8043ce222464ee88f6480d20ce806c1",
              "version_minor": 0,
              "version_major": 2
            },
            "text/plain": [
              "HBox(children=(FloatProgress(value=0.0, description='Downloading', max=655812184.0, style=ProgressStyle(descri…"
            ]
          },
          "metadata": {
            "tags": []
          }
        },
        {
          "output_type": "stream",
          "text": [
            "\n"
          ],
          "name": "stdout"
        },
        {
          "output_type": "stream",
          "text": [
            "Some layers from the model checkpoint at indobenchmark/indobert-base-p2 were not used when initializing TFBertModel: ['nsp___cls', 'mlm___cls']\n",
            "- This IS expected if you are initializing TFBertModel from the checkpoint of a model trained on another task or with another architecture (e.g. initializing a BertForSequenceClassification model from a BertForPretraining model).\n",
            "- This IS NOT expected if you are initializing TFBertModel from the checkpoint of a model that you expect to be exactly identical (initializing a BertForSequenceClassification model from a BertForSequenceClassification model).\n",
            "All the layers of TFBertModel were initialized from the model checkpoint at indobenchmark/indobert-base-p2.\n",
            "If your task is similar to the task the model of the checkpoint was trained on, you can already use TFBertModel for predictions without further training.\n"
          ],
          "name": "stderr"
        }
      ]
    },
    {
      "cell_type": "code",
      "metadata": {
        "id": "xMJRaj9K1y8d",
        "outputId": "1bb2e8f1-20ac-4a23-cff1-d51f40a2caaa",
        "colab": {
          "base_uri": "https://localhost:8080/",
          "height": 56
        }
      },
      "source": [
        "from collections import Counter\n",
        "seq_len = [len(i.split()) for i in df_train[\"narasi\"]]\n",
        "\n",
        "print(Counter(seq_len))"
      ],
      "execution_count": null,
      "outputs": [
        {
          "output_type": "stream",
          "text": [
            "Counter({7: 559, 8: 558, 9: 539, 10: 475, 11: 466, 6: 450, 12: 364, 5: 350, 13: 336, 14: 273, 15: 252, 4: 227, 16: 207, 17: 188, 18: 180, 20: 152, 19: 142, 3: 140, 24: 124, 22: 121, 27: 115, 21: 115, 26: 105, 23: 103, 28: 102, 29: 96, 36: 94, 32: 92, 25: 88, 31: 87, 30: 82, 33: 77, 34: 76, 37: 73, 38: 70, 39: 65, 40: 64, 41: 63, 35: 61, 42: 61, 43: 54, 2: 52, 50: 46, 44: 46, 46: 44, 47: 44, 48: 43, 45: 42, 51: 36, 59: 31, 54: 30, 49: 30, 55: 29, 58: 27, 53: 24, 56: 24, 52: 23, 60: 20, 65: 19, 66: 19, 63: 19, 72: 19, 77: 19, 76: 17, 57: 17, 83: 15, 61: 15, 68: 15, 64: 14, 62: 13, 71: 13, 75: 12, 67: 12, 86: 11, 74: 11, 70: 11, 80: 10, 69: 10, 78: 9, 79: 9, 92: 9, 110: 9, 1: 9, 84: 8, 95: 7, 87: 7, 73: 7, 113: 7, 85: 7, 139: 6, 104: 6, 81: 6, 156: 6, 115: 6, 82: 6, 96: 6, 88: 6, 101: 6, 108: 6, 129: 6, 111: 5, 102: 5, 268: 5, 123: 5, 259: 4, 119: 4, 135: 4, 91: 4, 122: 4, 173: 4, 157: 4, 93: 4, 98: 4, 100: 4, 252: 4, 132: 3, 213: 3, 152: 3, 106: 3, 126: 3, 154: 3, 116: 3, 155: 3, 180: 3, 121: 3, 117: 3, 195: 3, 99: 3, 177: 3, 138: 3, 149: 3, 269: 3, 144: 3, 103: 3, 89: 3, 0: 2, 124: 2, 225: 2, 112: 2, 185: 2, 105: 2, 159: 2, 107: 2, 348: 2, 170: 2, 182: 2, 141: 2, 193: 2, 184: 2, 134: 2, 463: 2, 153: 2, 287: 2, 251: 2, 151: 2, 201: 2, 317: 2, 161: 2, 202: 2, 262: 2, 280: 2, 232: 2, 181: 2, 210: 2, 143: 2, 120: 2, 334: 2, 178: 2, 94: 2, 148: 2, 183: 2, 323: 2, 208: 2, 199: 2, 158: 2, 162: 2, 127: 2, 289: 2, 109: 2, 257: 2, 455: 1, 175: 1, 114: 1, 363: 1, 274: 1, 136: 1, 207: 1, 468: 1, 567: 1, 391: 1, 361: 1, 265: 1, 253: 1, 380: 1, 437: 1, 230: 1, 454: 1, 192: 1, 412: 1, 90: 1, 267: 1, 204: 1, 220: 1, 229: 1, 227: 1, 238: 1, 436: 1, 1727: 1, 352: 1, 174: 1, 492: 1, 172: 1, 217: 1, 290: 1, 248: 1, 415: 1, 309: 1, 200: 1, 883: 1, 788: 1, 313: 1, 166: 1, 140: 1, 476: 1, 516: 1, 255: 1, 197: 1, 346: 1, 165: 1, 130: 1, 142: 1, 310: 1, 306: 1, 118: 1, 187: 1, 284: 1, 214: 1, 186: 1, 403: 1, 383: 1, 501: 1, 299: 1, 474: 1, 168: 1, 203: 1, 362: 1, 272: 1, 261: 1, 198: 1, 164: 1, 538: 1, 240: 1, 241: 1, 215: 1, 163: 1, 645: 1, 146: 1, 1461: 1, 456: 1, 160: 1, 281: 1, 294: 1, 457: 1, 331: 1, 308: 1, 243: 1, 256: 1, 424: 1, 133: 1, 237: 1, 97: 1, 211: 1, 194: 1, 482: 1})\n"
          ],
          "name": "stdout"
        }
      ]
    },
    {
      "cell_type": "code",
      "metadata": {
        "id": "69IHXHY2i6lj"
      },
      "source": [
        ""
      ],
      "execution_count": null,
      "outputs": []
    },
    {
      "cell_type": "code",
      "metadata": {
        "id": "d3ENSn6xi0tP",
        "outputId": "ab832b0e-3d33-45d6-982d-666e569b5d71",
        "colab": {
          "base_uri": "https://localhost:8080/",
          "height": 55
        }
      },
      "source": [
        "\"\"\"from sklearn.utils import resample\n",
        "no_claim = df_train[df_train.label == 1]\n",
        "claim = df_train[df_train.label == 0]\n",
        "claim.head()\n",
        "sampled = resample(claim,replace = True,n_samples = len(no_claim),random_state = 0)\n",
        "df_train = pd.concat([no_claim,sampled])\n",
        "df_train.shape\n",
        "sampled\"\"\""
      ],
      "execution_count": null,
      "outputs": [
        {
          "output_type": "execute_result",
          "data": {
            "application/vnd.google.colaboratory.intrinsic+json": {
              "type": "string"
            },
            "text/plain": [
              "'from sklearn.utils import resample\\nno_claim = df_train[df_train.label == 1]\\nclaim = df_train[df_train.label == 0]\\nclaim.head()\\nsampled = resample(claim,replace = True,n_samples = len(no_claim),random_state = 0)\\ndf_train = pd.concat([no_claim,sampled])\\ndf_train.shape\\nsampled'"
            ]
          },
          "metadata": {
            "tags": []
          },
          "execution_count": 296
        }
      ]
    },
    {
      "cell_type": "code",
      "metadata": {
        "id": "k0Y9zLlojpiG"
      },
      "source": [
        ""
      ],
      "execution_count": null,
      "outputs": []
    },
    {
      "cell_type": "code",
      "metadata": {
        "id": "tZNL8-js05Wk",
        "outputId": "bd4e6b6a-9b58-4caa-8d5b-aabd8af36e28",
        "colab": {
          "base_uri": "https://localhost:8080/",
          "height": 36
        }
      },
      "source": [
        "from sklearn.model_selection import train_test_split\n",
        "\n",
        "df_train, df_val = train_test_split(df_train,test_size = 0.05 ,random_state = 93)\n",
        "df_train.shape , df_val.shape\n"
      ],
      "execution_count": null,
      "outputs": [
        {
          "output_type": "execute_result",
          "data": {
            "text/plain": [
              "((8730, 3), (460, 3))"
            ]
          },
          "metadata": {
            "tags": []
          },
          "execution_count": 16
        }
      ]
    },
    {
      "cell_type": "code",
      "metadata": {
        "id": "KgsfLrfz1yQ0"
      },
      "source": [
        ""
      ],
      "execution_count": null,
      "outputs": []
    },
    {
      "cell_type": "code",
      "metadata": {
        "id": "J0zeQ-mm1d81",
        "outputId": "b189006d-7cab-4849-d64c-f6c0ec3aeff6",
        "colab": {
          "base_uri": "https://localhost:8080/",
          "height": 75
        }
      },
      "source": [
        "tokens_train = {\n",
        "   \"judul\":tokenizer.batch_encode_plus(\n",
        "        df_train.judul.tolist(),\n",
        "        max_length = 30,\n",
        "        pad_to_max_length = True,\n",
        "        truncation = True\n",
        "   ),\n",
        "      \"narasi\":tokenizer.batch_encode_plus(\n",
        "        df_train.narasi.tolist(),\n",
        "        max_length = 64,\n",
        "        pad_to_max_length = True,\n",
        "        truncation = True\n",
        "   )\n",
        "}\n",
        "\n",
        "tokens_val = {\n",
        "  'judul' : tokenizer.batch_encode_plus(\n",
        "    df_val[\"judul\"].tolist(),\n",
        "    max_length = 30,\n",
        "    pad_to_max_length=True,\n",
        "    truncation=True\n",
        "  ),\n",
        "  'narasi' : tokenizer.batch_encode_plus(\n",
        "    df_val[\"narasi\"].tolist(),\n",
        "    max_length = 64,\n",
        "    pad_to_max_length=True,\n",
        "    truncation=True\n",
        "  )\n",
        "}"
      ],
      "execution_count": null,
      "outputs": [
        {
          "output_type": "stream",
          "text": [
            "/usr/local/lib/python3.6/dist-packages/transformers/tokenization_utils_base.py:1944: FutureWarning: The `pad_to_max_length` argument is deprecated and will be removed in a future version, use `padding=True` or `padding='longest'` to pad to the longest sequence in the batch, or use `padding='max_length'` to pad to a max length. In this case, you can give a specific length with `max_length` (e.g. `max_length=45`) or leave max_length to None to pad to the maximal input size of the model (e.g. 512 for Bert).\n",
            "  FutureWarning,\n"
          ],
          "name": "stderr"
        }
      ]
    },
    {
      "cell_type": "code",
      "metadata": {
        "id": "R96ZOpcH3QLO",
        "outputId": "aceb3816-e985-4536-8442-c6412a5637f1",
        "colab": {
          "base_uri": "https://localhost:8080/",
          "height": 36
        }
      },
      "source": [
        "train_sequence = {\n",
        "    \"judul\":tf.convert_to_tensor(tokens_train[\"judul\"][\"input_ids\"]),\n",
        "    \"narasi\":tf.convert_to_tensor(tokens_train[\"narasi\"][\"input_ids\"])\n",
        "}\n",
        "train_mask = {\n",
        "    \"judul\":tf.convert_to_tensor(tokens_train[\"judul\"][\"attention_mask\"]),\n",
        "    \"narasi\":tf.convert_to_tensor(tokens_train[\"narasi\"][\"attention_mask\"])\n",
        "}\n",
        "y_train = tf.convert_to_tensor(df_train.label.tolist())\n",
        "\n",
        "validation_sequence = {\n",
        "    \"judul\":tf.convert_to_tensor(tokens_val[\"judul\"][\"input_ids\"]),\n",
        "    \"narasi\":tf.convert_to_tensor(tokens_val[\"narasi\"][\"input_ids\"])\n",
        "}\n",
        "validation_mask = {\n",
        "    \"judul\":tf.convert_to_tensor(tokens_val[\"judul\"][\"attention_mask\"]),\n",
        "    \"narasi\":tf.convert_to_tensor(tokens_val[\"narasi\"][\"attention_mask\"])\n",
        "}\n",
        "y_val = tf.convert_to_tensor(df_val.label.tolist())\n",
        "\n",
        "y_train\n",
        "\n"
      ],
      "execution_count": null,
      "outputs": [
        {
          "output_type": "execute_result",
          "data": {
            "text/plain": [
              "<tf.Tensor: shape=(8730,), dtype=int32, numpy=array([1, 1, 1, ..., 1, 1, 0], dtype=int32)>"
            ]
          },
          "metadata": {
            "tags": []
          },
          "execution_count": 18
        }
      ]
    },
    {
      "cell_type": "code",
      "metadata": {
        "id": "Hb2vGAb3-PKs"
      },
      "source": [
        "train_data = {\n",
        "    \"judul\":tf.squeeze(tf.convert_to_tensor(tokens_train[\"judul\"][\"input_ids\"])),\n",
        "    \"narasi\":tf.squeeze(tf.convert_to_tensor(tokens_train[\"narasi\"][\"input_ids\"])),\n",
        "    \"judulmask\":tf.squeeze(tf.convert_to_tensor(tokens_train[\"judul\"][\"attention_mask\"])),\n",
        "    \"narasimask\":tf.squeeze(tf.convert_to_tensor(tokens_train[\"narasi\"][\"attention_mask\"]))\n",
        "}\n",
        "\n",
        "validation_sequence = {\n",
        "    \"judul\":tf.convert_to_tensor(tokens_val[\"judul\"][\"input_ids\"]),\n",
        "    \"narasi\":tf.convert_to_tensor(tokens_val[\"narasi\"][\"input_ids\"]),\n",
        "    \"judulmask\":tf.convert_to_tensor(tokens_val[\"judul\"][\"attention_mask\"]),\n",
        "    \"narasimask\":tf.convert_to_tensor(tokens_val[\"narasi\"][\"attention_mask\"])\n",
        "}\n",
        "\n",
        "y_val = tf.convert_to_tensor(df_val.label.tolist())\n",
        "\n"
      ],
      "execution_count": null,
      "outputs": []
    },
    {
      "cell_type": "code",
      "metadata": {
        "id": "8gxJ4CpfKasp"
      },
      "source": [
        "from tensorflow.keras.utils import to_categorical\n",
        "y_train = to_categorical(y_train,2)\n",
        "y_val = to_categorical(y_val,2)"
      ],
      "execution_count": null,
      "outputs": []
    },
    {
      "cell_type": "code",
      "metadata": {
        "id": "3-rnPixux5rg"
      },
      "source": [
        "dataset = (tf.data.Dataset.from_tensor_slices((train_data,y_train))\n",
        "    .batch(32)\n",
        "    .prefetch(AUTO)\n",
        "           )\n",
        "dataVal = (tf.data.Dataset.from_tensor_slices((validation_sequence,y_val))\n",
        "    .batch(32)\n",
        "    .prefetch(AUTO)\n",
        "    .cache()\n",
        "           )"
      ],
      "execution_count": null,
      "outputs": []
    },
    {
      "cell_type": "code",
      "metadata": {
        "id": "jxYv7UVawgRf",
        "outputId": "2e79b858-3165-4625-ddd6-138640eca38a",
        "colab": {
          "base_uri": "https://localhost:8080/",
          "height": 36
        }
      },
      "source": [
        "Counter(df_train[\"label\"])\n",
        "Yatoiba = np.log(5592/5680)\n",
        "Yatoiba"
      ],
      "execution_count": null,
      "outputs": [
        {
          "output_type": "execute_result",
          "data": {
            "text/plain": [
              "-0.015614227801550827"
            ]
          },
          "metadata": {
            "tags": []
          },
          "execution_count": 331
        }
      ]
    },
    {
      "cell_type": "code",
      "metadata": {
        "id": "wPhX5xwr6aXm"
      },
      "source": [
        "def makemodel(output_bias = None):\n",
        "\n",
        "\n",
        "  ids1 = tf.keras.layers.Input(shape=(30,),dtype=tf.int32,name=\"judul\")\n",
        "  att1 = tf.keras.layers.Input((30,),dtype = tf.int32,name=\"judulatt\")\n",
        "  output_bias = tf.keras.initializers.Constant(output_bias)\n",
        "  ids2 = tf.keras.layers.Input((64,),dtype=tf.int32,name=\"narasi\")\n",
        "  att2 = tf.keras.layers.Input((64,),dtype=tf.int32,name=\"narasiatt\")\n",
        "    \n",
        "  embed1,ya = IndoBert(ids1,attention_mask=att1)\n",
        "  embed2,toi= IndoBert(ids2,attention_mask=att2)\n",
        "\n",
        "  embed3,iba = IndoBert(ids1,attention_mask=att1)\n",
        "  embed4,yatoiba = IndoBert(ids2,attention_mask=att2)\n",
        "\n",
        "  y = tf.keras.layers.concatenate([iba,yatoiba])\n",
        "  y = tf.keras.layers.Masking(mask_value = 0)(y)\n",
        "  y = tf.keras.layers.Dense(units = 32,activation = \"relu\")(y)\n",
        "\n",
        "  x = tf.keras.layers.concatenate([ya,toi])\n",
        "  x = tf.keras.layers.Masking(mask_value = 0)(x)\n",
        "  x = tf.keras.layers.Dense(16,activation = 'relu')(x)\n",
        "\n",
        "  fin =  tf.keras.layers.concatenate([x,y])\n",
        "\n",
        "  fin2 = tf.keras.layers.GlobalAveragePooling1D()(embed1)\n",
        "  fin3 = tf.keras.layers.GlobalAveragePooling1D()(embed2)\n",
        "  fin4 = tf.keras.layers.GlobalAveragePooling1D()(embed3)\n",
        "  fin4 = tf.keras.layers.Dense(units = 64, activation=\"relu\")(fin4)\n",
        "\n",
        "  fin5 = tf.keras.layers.GlobalAveragePooling1D()(embed4)\n",
        "  fin5 = tf.keras.layers.Dense(units = 32, activation = \"relu\")(fin5)\n",
        "\n",
        "  fin = tf.keras.layers.concatenate([fin,fin2,fin3,fin4,fin5])\n",
        "  fin = tf.keras.layers.Dropout(0.35)(fin)\n",
        "  fin = tf.keras.layers.Dense(units = 34,activation = tf.keras.layers.LeakyReLU())(fin)\n",
        "  fin = tf.keras.layers.Dropout(0.4)(fin)\n",
        "  fin = tf.keras.layers.Dense(2,activation=\"softmax\")(fin)\n",
        "\n",
        "\n",
        "\n",
        "  final = tf.keras.Model(inputs=[ids1, att1,ids2,att2],outputs=[fin])\n",
        "  METRICS = [\n",
        "        tf.keras.metrics.TruePositives(name='tp'),\n",
        "        tf.keras.metrics.FalsePositives(name='fp'),\n",
        "        tf.keras.metrics.TrueNegatives(name='tn'),\n",
        "        tf.keras.metrics.FalseNegatives(name='fn'), \n",
        "        tf.keras.metrics.CategoricalAccuracy(name='accuracy'),\n",
        "        tf.keras.metrics.Precision(name='precision'),\n",
        "        tf.keras.metrics.Recall(name='recall'),\n",
        "        tf.keras.metrics.AUC(name='auc'),\n",
        "  ] \n",
        "\n",
        "\n",
        "  for layer in final.layers:\n",
        "    layer.trainable = False\n",
        "  for layer in final.layers[-7:]:\n",
        "      layer.trainable = True\n",
        "\n",
        "  optimizer = tf.keras.optimizers.Adam(learning_rate=.001,clipnorm=0.001)\n",
        "  final.compile(loss=tfa.losses.SigmoidFocalCrossEntropy(), optimizer=optimizer,metrics = METRICS)\n",
        "\n",
        "  return final\n",
        "\n",
        "final = makemodel()"
      ],
      "execution_count": null,
      "outputs": []
    },
    {
      "cell_type": "code",
      "metadata": {
        "id": "G7xzxFX3ZSkw",
        "outputId": "907de90a-f948-4d18-af82-85663f70f0a8",
        "colab": {
          "base_uri": "https://localhost:8080/",
          "height": 969
        }
      },
      "source": [
        "from tensorflow.keras.utils import plot_model\n",
        "plot_model(final,\"modelarhcitect.png\",show_shapes=True)"
      ],
      "execution_count": null,
      "outputs": [
        {
          "output_type": "execute_result",
          "data": {
            "image/png": "[encoded data removed]",
            "text/plain": [
              "<IPython.core.display.Image object>"
            ]
          },
          "metadata": {
            "tags": []
          },
          "execution_count": 23
        }
      ]
    },
    {
      "cell_type": "code",
      "metadata": {
        "id": "VjcYgMYNOZUx",
        "outputId": "06a34201-e119-4542-d7c1-3c055b278736",
        "colab": {
          "base_uri": "https://localhost:8080/",
          "height": 1000
        }
      },
      "source": [
        "final.summary()"
      ],
      "execution_count": null,
      "outputs": [
        {
          "output_type": "stream",
          "text": [
            "Model: \"functional_1\"\n",
            "__________________________________________________________________________________________________\n",
            "Layer (type)                    Output Shape         Param #     Connected to                     \n",
            "==================================================================================================\n",
            "judul (InputLayer)              [(None, 30)]         0                                            \n",
            "__________________________________________________________________________________________________\n",
            "judulatt (InputLayer)           [(None, 30)]         0                                            \n",
            "__________________________________________________________________________________________________\n",
            "narasi (InputLayer)             [(None, 64)]         0                                            \n",
            "__________________________________________________________________________________________________\n",
            "narasiatt (InputLayer)          [(None, 64)]         0                                            \n",
            "__________________________________________________________________________________________________\n",
            "tf_bert_model (TFBertModel)     multiple             124441344   judul[0][0]                      \n",
            "                                                                 judulatt[0][0]                   \n",
            "                                                                 narasi[0][0]                     \n",
            "                                                                 narasiatt[0][0]                  \n",
            "                                                                 judul[0][0]                      \n",
            "                                                                 judulatt[0][0]                   \n",
            "                                                                 narasi[0][0]                     \n",
            "                                                                 narasiatt[0][0]                  \n",
            "__________________________________________________________________________________________________\n",
            "concatenate_1 (Concatenate)     (None, 1536)         0           tf_bert_model[0][1]              \n",
            "                                                                 tf_bert_model[1][1]              \n",
            "__________________________________________________________________________________________________\n",
            "concatenate (Concatenate)       (None, 1536)         0           tf_bert_model[2][1]              \n",
            "                                                                 tf_bert_model[3][1]              \n",
            "__________________________________________________________________________________________________\n",
            "masking_1 (Masking)             (None, 1536)         0           concatenate_1[0][0]              \n",
            "__________________________________________________________________________________________________\n",
            "masking (Masking)               (None, 1536)         0           concatenate[0][0]                \n",
            "__________________________________________________________________________________________________\n",
            "dense_1 (Dense)                 (None, 16)           24592       masking_1[0][0]                  \n",
            "__________________________________________________________________________________________________\n",
            "dense (Dense)                   (None, 32)           49184       masking[0][0]                    \n",
            "__________________________________________________________________________________________________\n",
            "global_average_pooling1d_2 (Glo (None, 768)          0           tf_bert_model[2][0]              \n",
            "__________________________________________________________________________________________________\n",
            "global_average_pooling1d_3 (Glo (None, 768)          0           tf_bert_model[3][0]              \n",
            "__________________________________________________________________________________________________\n",
            "concatenate_2 (Concatenate)     (None, 48)           0           dense_1[0][0]                    \n",
            "                                                                 dense[0][0]                      \n",
            "__________________________________________________________________________________________________\n",
            "global_average_pooling1d (Globa (None, 768)          0           tf_bert_model[0][0]              \n",
            "__________________________________________________________________________________________________\n",
            "global_average_pooling1d_1 (Glo (None, 768)          0           tf_bert_model[1][0]              \n",
            "__________________________________________________________________________________________________\n",
            "dense_2 (Dense)                 (None, 64)           49216       global_average_pooling1d_2[0][0] \n",
            "__________________________________________________________________________________________________\n",
            "dense_3 (Dense)                 (None, 32)           24608       global_average_pooling1d_3[0][0] \n",
            "__________________________________________________________________________________________________\n",
            "concatenate_3 (Concatenate)     (None, 1680)         0           concatenate_2[0][0]              \n",
            "                                                                 global_average_pooling1d[0][0]   \n",
            "                                                                 global_average_pooling1d_1[0][0] \n",
            "                                                                 dense_2[0][0]                    \n",
            "                                                                 dense_3[0][0]                    \n",
            "__________________________________________________________________________________________________\n",
            "dropout_37 (Dropout)            (None, 1680)         0           concatenate_3[0][0]              \n",
            "__________________________________________________________________________________________________\n",
            "dense_4 (Dense)                 (None, 34)           57154       dropout_37[0][0]                 \n",
            "__________________________________________________________________________________________________\n",
            "dropout_38 (Dropout)            (None, 34)           0           dense_4[0][0]                    \n",
            "__________________________________________________________________________________________________\n",
            "dense_5 (Dense)                 (None, 2)            70          dropout_38[0][0]                 \n",
            "==================================================================================================\n",
            "Total params: 124,646,168\n",
            "Trainable params: 131,048\n",
            "Non-trainable params: 124,515,120\n",
            "__________________________________________________________________________________________________\n"
          ],
          "name": "stdout"
        }
      ]
    },
    {
      "cell_type": "code",
      "metadata": {
        "id": "FWI-nug73AJG"
      },
      "source": [
        "from tensorflow.keras.callbacks import EarlyStopping\n",
        "EarlyStop = EarlyStopping(monitor=\"val_loss\",patience = 5)"
      ],
      "execution_count": null,
      "outputs": []
    },
    {
      "cell_type": "code",
      "metadata": {
        "id": "2KthyyboaQ0P"
      },
      "source": [
        "import math\n",
        "def create_learning_rate_scheduler(max_learn_rate=1e-2,\n",
        "                                   end_learn_rate=1e-6,\n",
        "                                   warmup_epoch_count=2,\n",
        "                                   total_epoch_count=15):\n",
        "\n",
        "    def lr_scheduler(epoch):\n",
        "        if epoch < warmup_epoch_count:\n",
        "            res = max_learn_rate\n",
        "        else:\n",
        "            res = max_learn_rate*math.exp(math.log(end_learn_rate/max_learn_rate)*(epoch-warmup_epoch_count+1)/(total_epoch_count-warmup_epoch_count+1))\n",
        "        return float(res)\n",
        "    learning_rate_scheduler = tf.keras.callbacks.LearningRateScheduler(lr_scheduler, verbose=1)\n",
        "\n",
        "    return learning_rate_scheduler"
      ],
      "execution_count": null,
      "outputs": []
    },
    {
      "cell_type": "code",
      "metadata": {
        "id": "WO3tjDhjaPAR",
        "outputId": "cb916524-e8ce-435a-8e22-7af407b81a04",
        "colab": {
          "base_uri": "https://localhost:8080/",
          "height": 789
        }
      },
      "source": [
        "history3=final.fit(x = dataset,epochs = 15,validation_data=dataVal,callbacks = [EarlyStop, create_learning_rate_scheduler(max_learn_rate=1e-3,\n",
        "                                                    end_learn_rate=1e-6,\n",
        "                                                    warmup_epoch_count=3,\n",
        "                                                    total_epoch_count=15),EarlyStop])"
      ],
      "execution_count": null,
      "outputs": [
        {
          "output_type": "stream",
          "text": [
            "\n",
            "Epoch 00001: LearningRateScheduler reducing learning rate to 0.001.\n",
            "Epoch 1/15\n",
            "273/273 [==============================] - 136s 498ms/step - loss: 0.2023 - tp: 7033.0000 - fp: 1697.0000 - tn: 7033.0000 - fn: 1697.0000 - accuracy: 0.8056 - precision: 0.8056 - recall: 0.8056 - auc: 0.8754 - val_loss: 0.1028 - val_tp: 402.0000 - val_fp: 58.0000 - val_tn: 402.0000 - val_fn: 58.0000 - val_accuracy: 0.8739 - val_precision: 0.8739 - val_recall: 0.8739 - val_auc: 0.9366\n",
            "\n",
            "Epoch 00002: LearningRateScheduler reducing learning rate to 0.001.\n",
            "Epoch 2/15\n",
            "273/273 [==============================] - 125s 459ms/step - loss: 0.1203 - tp: 7405.0000 - fp: 1325.0000 - tn: 7405.0000 - fn: 1325.0000 - accuracy: 0.8482 - precision: 0.8482 - recall: 0.8482 - auc: 0.9095 - val_loss: 0.0862 - val_tp: 403.0000 - val_fp: 57.0000 - val_tn: 403.0000 - val_fn: 57.0000 - val_accuracy: 0.8761 - val_precision: 0.8761 - val_recall: 0.8761 - val_auc: 0.9379\n",
            "\n",
            "Epoch 00003: LearningRateScheduler reducing learning rate to 0.001.\n",
            "Epoch 3/15\n",
            "273/273 [==============================] - 125s 456ms/step - loss: 0.0943 - tp: 7572.0000 - fp: 1158.0000 - tn: 7572.0000 - fn: 1158.0000 - accuracy: 0.8674 - precision: 0.8674 - recall: 0.8674 - auc: 0.9276 - val_loss: 0.0842 - val_tp: 406.0000 - val_fp: 54.0000 - val_tn: 406.0000 - val_fn: 54.0000 - val_accuracy: 0.8826 - val_precision: 0.8826 - val_recall: 0.8826 - val_auc: 0.9403\n",
            "\n",
            "Epoch 00004: LearningRateScheduler reducing learning rate to 0.0005878016072274914.\n",
            "Epoch 4/15\n",
            "273/273 [==============================] - 125s 458ms/step - loss: 0.0837 - tp: 7683.0000 - fp: 1047.0000 - tn: 7683.0000 - fn: 1047.0000 - accuracy: 0.8801 - precision: 0.8801 - recall: 0.8801 - auc: 0.9415 - val_loss: 0.0798 - val_tp: 406.0000 - val_fp: 54.0000 - val_tn: 406.0000 - val_fn: 54.0000 - val_accuracy: 0.8826 - val_precision: 0.8826 - val_recall: 0.8826 - val_auc: 0.9445\n",
            "\n",
            "Epoch 00005: LearningRateScheduler reducing learning rate to 0.00034551072945922197.\n",
            "Epoch 5/15\n",
            "273/273 [==============================] - 125s 457ms/step - loss: 0.0782 - tp: 7771.0000 - fp: 959.0000 - tn: 7771.0000 - fn: 959.0000 - accuracy: 0.8901 - precision: 0.8901 - recall: 0.8901 - auc: 0.9482 - val_loss: 0.0772 - val_tp: 409.0000 - val_fp: 51.0000 - val_tn: 409.0000 - val_fn: 51.0000 - val_accuracy: 0.8891 - val_precision: 0.8891 - val_recall: 0.8891 - val_auc: 0.9451\n",
            "\n",
            "Epoch 00006: LearningRateScheduler reducing learning rate to 0.00020309176209047357.\n",
            "Epoch 6/15\n",
            "273/273 [==============================] - 125s 458ms/step - loss: 0.0761 - tp: 7773.0000 - fp: 957.0000 - tn: 7773.0000 - fn: 957.0000 - accuracy: 0.8904 - precision: 0.8904 - recall: 0.8904 - auc: 0.9507 - val_loss: 0.0772 - val_tp: 407.0000 - val_fp: 53.0000 - val_tn: 407.0000 - val_fn: 53.0000 - val_accuracy: 0.8848 - val_precision: 0.8848 - val_recall: 0.8848 - val_auc: 0.9459\n",
            "\n",
            "Epoch 00007: LearningRateScheduler reducing learning rate to 0.00011937766417144367.\n",
            "Epoch 7/15\n",
            "273/273 [==============================] - 125s 457ms/step - loss: 0.0751 - tp: 7817.0000 - fp: 913.0000 - tn: 7817.0000 - fn: 913.0000 - accuracy: 0.8954 - precision: 0.8954 - recall: 0.8954 - auc: 0.9525 - val_loss: 0.0770 - val_tp: 408.0000 - val_fp: 52.0000 - val_tn: 408.0000 - val_fn: 52.0000 - val_accuracy: 0.8870 - val_precision: 0.8870 - val_recall: 0.8870 - val_auc: 0.9466\n",
            "\n",
            "Epoch 00008: LearningRateScheduler reducing learning rate to 7.017038286703829e-05.\n",
            "Epoch 8/15\n",
            "273/273 [==============================] - 125s 457ms/step - loss: 0.0732 - tp: 7814.0000 - fp: 916.0000 - tn: 7814.0000 - fn: 916.0000 - accuracy: 0.8951 - precision: 0.8951 - recall: 0.8951 - auc: 0.9544 - val_loss: 0.0769 - val_tp: 406.0000 - val_fp: 54.0000 - val_tn: 406.0000 - val_fn: 54.0000 - val_accuracy: 0.8826 - val_precision: 0.8826 - val_recall: 0.8826 - val_auc: 0.9469\n",
            "\n",
            "Epoch 00009: LearningRateScheduler reducing learning rate to 4.124626382901352e-05.\n",
            "Epoch 9/15\n",
            "273/273 [==============================] - 125s 457ms/step - loss: 0.0721 - tp: 7826.0000 - fp: 904.0000 - tn: 7826.0000 - fn: 904.0000 - accuracy: 0.8964 - precision: 0.8964 - recall: 0.8964 - auc: 0.9561 - val_loss: 0.0774 - val_tp: 409.0000 - val_fp: 51.0000 - val_tn: 409.0000 - val_fn: 51.0000 - val_accuracy: 0.8891 - val_precision: 0.8891 - val_recall: 0.8891 - val_auc: 0.9471\n",
            "\n",
            "Epoch 00010: LearningRateScheduler reducing learning rate to 2.4244620170823292e-05.\n",
            "Epoch 10/15\n",
            "273/273 [==============================] - 125s 458ms/step - loss: 0.0717 - tp: 7858.0000 - fp: 872.0000 - tn: 7858.0000 - fn: 872.0000 - accuracy: 0.9001 - precision: 0.9001 - recall: 0.9001 - auc: 0.9565 - val_loss: 0.0773 - val_tp: 407.0000 - val_fp: 53.0000 - val_tn: 407.0000 - val_fn: 53.0000 - val_accuracy: 0.8848 - val_precision: 0.8848 - val_recall: 0.8848 - val_auc: 0.9474\n"
          ],
          "name": "stdout"
        }
      ]
    },
    {
      "cell_type": "code",
      "metadata": {
        "id": "23VOhwBrg7iM",
        "outputId": "09832f45-1795-4c64-de1e-9d49b27f39d5",
        "colab": {
          "base_uri": "https://localhost:8080/",
          "height": 75
        }
      },
      "source": [
        "test_seq = {\n",
        "  'judul' : tokenizer.batch_encode_plus(\n",
        "    dataTest[\"judul\"].tolist(),\n",
        "    max_length = 30,\n",
        "    pad_to_max_length=True,\n",
        "    truncation=True\n",
        "  ),\n",
        "  'narasi' : tokenizer.batch_encode_plus(\n",
        "    dataTest[\"narasi\"].tolist(),\n",
        "    max_length = 64,\n",
        "    pad_to_max_length=True,\n",
        "    truncation=True\n",
        "  )\n",
        "}\n",
        "\n",
        "test_sequence = {\n",
        "    \"judul\":tf.convert_to_tensor(test_seq[\"judul\"][\"input_ids\"]),\n",
        "    \"narasi\":tf.convert_to_tensor(test_seq[\"narasi\"][\"input_ids\"]),\n",
        "    \"judulmask\":tf.convert_to_tensor(test_seq[\"judul\"][\"attention_mask\"]),\n",
        "    \"narasimask\":tf.convert_to_tensor(test_seq[\"narasi\"][\"attention_mask\"])\n",
        "}\n",
        "\n"
      ],
      "execution_count": null,
      "outputs": [
        {
          "output_type": "stream",
          "text": [
            "/usr/local/lib/python3.6/dist-packages/transformers/tokenization_utils_base.py:1944: FutureWarning: The `pad_to_max_length` argument is deprecated and will be removed in a future version, use `padding=True` or `padding='longest'` to pad to the longest sequence in the batch, or use `padding='max_length'` to pad to a max length. In this case, you can give a specific length with `max_length` (e.g. `max_length=45`) or leave max_length to None to pad to the maximal input size of the model (e.g. 512 for Bert).\n",
            "  FutureWarning,\n"
          ],
          "name": "stderr"
        }
      ]
    },
    {
      "cell_type": "code",
      "metadata": {
        "id": "hiJhnAqcmCRH"
      },
      "source": [
        "y_test = dataTest[\"label\"]"
      ],
      "execution_count": null,
      "outputs": []
    },
    {
      "cell_type": "code",
      "metadata": {
        "id": "tQTkO1PzmmDH",
        "outputId": "0bef7aeb-a4ef-4574-ed04-9280b9c739bd",
        "colab": {
          "base_uri": "https://localhost:8080/",
          "height": 36
        }
      },
      "source": [
        "y_pred = np.argmax(final.predict(test_sequence),axis = 1)\n",
        "y_pred[:5]"
      ],
      "execution_count": null,
      "outputs": [
        {
          "output_type": "execute_result",
          "data": {
            "text/plain": [
              "array([1, 1, 1, 1, 1])"
            ]
          },
          "metadata": {
            "tags": []
          },
          "execution_count": 50
        }
      ]
    },
    {
      "cell_type": "code",
      "metadata": {
        "id": "8qs4ij1aicSC",
        "outputId": "7577a8ba-4ca7-4583-9db0-3bdb7814593c",
        "colab": {
          "base_uri": "https://localhost:8080/",
          "height": 186
        }
      },
      "source": [
        "print(classification_report(y_test,y_pred))"
      ],
      "execution_count": null,
      "outputs": [
        {
          "output_type": "stream",
          "text": [
            "              precision    recall  f1-score   support\n",
            "\n",
            "           0       0.82      0.60      0.69        60\n",
            "           1       0.94      0.98      0.96       410\n",
            "\n",
            "    accuracy                           0.93       470\n",
            "   macro avg       0.88      0.79      0.83       470\n",
            "weighted avg       0.93      0.93      0.93       470\n",
            "\n"
          ],
          "name": "stdout"
        }
      ]
    },
    {
      "cell_type": "code",
      "metadata": {
        "id": "vVZecwwUnB8G",
        "outputId": "dd73c9b7-cace-4202-9160-d6e93161d674",
        "colab": {
          "base_uri": "https://localhost:8080/",
          "height": 36
        }
      },
      "source": [
        "from sklearn.metrics import f1_score\n",
        "from sklearn.metrics import classification_report\n",
        "\n",
        "f1_score(y_true = y_test , y_pred = y_pred,average='micro')"
      ],
      "execution_count": null,
      "outputs": [
        {
          "output_type": "execute_result",
          "data": {
            "text/plain": [
              "0.9319148936170213"
            ]
          },
          "metadata": {
            "tags": []
          },
          "execution_count": 52
        }
      ]
    },
    {
      "cell_type": "code",
      "metadata": {
        "id": "9CIP03qqpzCf"
      },
      "source": [
        "final.save()"
      ],
      "execution_count": null,
      "outputs": []
    }
  ]
}